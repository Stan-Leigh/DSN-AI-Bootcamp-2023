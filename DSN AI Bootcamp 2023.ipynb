{
 "cells": [
  {
   "cell_type": "markdown",
   "id": "e87c5443",
   "metadata": {},
   "source": [
    "# DSN AI Bootcamp\n",
    "\n",
    "#### Predicting price of houses in Nigeria"
   ]
  },
  {
   "cell_type": "code",
   "execution_count": 2,
   "id": "2704bf45",
   "metadata": {},
   "outputs": [],
   "source": [
    "# import libraries to be used in the notebook\n",
    "import pandas as pd\n",
    "import numpy as np\n",
    "import seaborn as sns\n",
    "from sklearn.model_selection import train_test_split\n",
    "from sklearn.model_selection import KFold\n",
    "from sklearn.metrics import mean_squared_error\n",
    "import matplotlib.pyplot as plt\n",
    "from lightgbm import LGBMRegressor\n",
    "\n",
    "import warnings\n",
    "warnings.filterwarnings('ignore')"
   ]
  },
  {
   "cell_type": "code",
   "execution_count": 3,
   "id": "75cd37f6",
   "metadata": {},
   "outputs": [],
   "source": [
    "# read in the data\n",
    "train = pd.read_csv(\"Housing_dataset_train.csv\")\n",
    "test = pd.read_csv(\"Housing_dataset_test.csv\")\n",
    "sub = pd.read_csv(\"Sample_submission.csv\")"
   ]
  },
  {
   "cell_type": "code",
   "execution_count": 4,
   "id": "6f2a0d57",
   "metadata": {},
   "outputs": [
    {
     "data": {
      "text/html": [
       "<div>\n",
       "<style scoped>\n",
       "    .dataframe tbody tr th:only-of-type {\n",
       "        vertical-align: middle;\n",
       "    }\n",
       "\n",
       "    .dataframe tbody tr th {\n",
       "        vertical-align: top;\n",
       "    }\n",
       "\n",
       "    .dataframe thead th {\n",
       "        text-align: right;\n",
       "    }\n",
       "</style>\n",
       "<table border=\"1\" class=\"dataframe\">\n",
       "  <thead>\n",
       "    <tr style=\"text-align: right;\">\n",
       "      <th></th>\n",
       "      <th>ID</th>\n",
       "      <th>loc</th>\n",
       "      <th>title</th>\n",
       "      <th>bedroom</th>\n",
       "      <th>bathroom</th>\n",
       "      <th>parking_space</th>\n",
       "      <th>price</th>\n",
       "    </tr>\n",
       "  </thead>\n",
       "  <tbody>\n",
       "    <tr>\n",
       "      <th>9741</th>\n",
       "      <td>11559</td>\n",
       "      <td>Osun</td>\n",
       "      <td>Mansion</td>\n",
       "      <td>7.0</td>\n",
       "      <td>1.0</td>\n",
       "      <td>1.0</td>\n",
       "      <td>4.170440e+06</td>\n",
       "    </tr>\n",
       "    <tr>\n",
       "      <th>7250</th>\n",
       "      <td>12037</td>\n",
       "      <td>Osun</td>\n",
       "      <td>Detached duplex</td>\n",
       "      <td>7.0</td>\n",
       "      <td>3.0</td>\n",
       "      <td>3.0</td>\n",
       "      <td>2.850660e+06</td>\n",
       "    </tr>\n",
       "    <tr>\n",
       "      <th>6005</th>\n",
       "      <td>146</td>\n",
       "      <td>Anambra</td>\n",
       "      <td>Terrace duplex</td>\n",
       "      <td>1.0</td>\n",
       "      <td>1.0</td>\n",
       "      <td>3.0</td>\n",
       "      <td>1.297916e+06</td>\n",
       "    </tr>\n",
       "    <tr>\n",
       "      <th>5634</th>\n",
       "      <td>1507</td>\n",
       "      <td>Zamfara</td>\n",
       "      <td>Flat</td>\n",
       "      <td>1.0</td>\n",
       "      <td>6.0</td>\n",
       "      <td>4.0</td>\n",
       "      <td>9.450278e+05</td>\n",
       "    </tr>\n",
       "    <tr>\n",
       "      <th>5051</th>\n",
       "      <td>1137</td>\n",
       "      <td>Kano</td>\n",
       "      <td>NaN</td>\n",
       "      <td>1.0</td>\n",
       "      <td>2.0</td>\n",
       "      <td>NaN</td>\n",
       "      <td>1.393493e+06</td>\n",
       "    </tr>\n",
       "  </tbody>\n",
       "</table>\n",
       "</div>"
      ],
      "text/plain": [
       "         ID      loc            title  bedroom  bathroom  parking_space  \\\n",
       "9741  11559     Osun          Mansion      7.0       1.0            1.0   \n",
       "7250  12037     Osun  Detached duplex      7.0       3.0            3.0   \n",
       "6005    146  Anambra   Terrace duplex      1.0       1.0            3.0   \n",
       "5634   1507  Zamfara             Flat      1.0       6.0            4.0   \n",
       "5051   1137     Kano              NaN      1.0       2.0            NaN   \n",
       "\n",
       "             price  \n",
       "9741  4.170440e+06  \n",
       "7250  2.850660e+06  \n",
       "6005  1.297916e+06  \n",
       "5634  9.450278e+05  \n",
       "5051  1.393493e+06  "
      ]
     },
     "execution_count": 4,
     "metadata": {},
     "output_type": "execute_result"
    }
   ],
   "source": [
    "# view a random sample of the data\n",
    "train.sample(5)"
   ]
  },
  {
   "cell_type": "code",
   "execution_count": 5,
   "id": "892849a7",
   "metadata": {},
   "outputs": [
    {
     "data": {
      "text/plain": [
       "(14000, 7)"
      ]
     },
     "execution_count": 5,
     "metadata": {},
     "output_type": "execute_result"
    }
   ],
   "source": [
    "# check for number of rows and columns\n",
    "train.shape"
   ]
  },
  {
   "cell_type": "code",
   "execution_count": 6,
   "id": "2e635f62",
   "metadata": {},
   "outputs": [
    {
     "data": {
      "text/html": [
       "<div>\n",
       "<style scoped>\n",
       "    .dataframe tbody tr th:only-of-type {\n",
       "        vertical-align: middle;\n",
       "    }\n",
       "\n",
       "    .dataframe tbody tr th {\n",
       "        vertical-align: top;\n",
       "    }\n",
       "\n",
       "    .dataframe thead th {\n",
       "        text-align: right;\n",
       "    }\n",
       "</style>\n",
       "<table border=\"1\" class=\"dataframe\">\n",
       "  <thead>\n",
       "    <tr style=\"text-align: right;\">\n",
       "      <th></th>\n",
       "      <th>ID</th>\n",
       "      <th>bedroom</th>\n",
       "      <th>bathroom</th>\n",
       "      <th>parking_space</th>\n",
       "      <th>price</th>\n",
       "    </tr>\n",
       "  </thead>\n",
       "  <tbody>\n",
       "    <tr>\n",
       "      <th>count</th>\n",
       "      <td>14000.000000</td>\n",
       "      <td>12201.000000</td>\n",
       "      <td>12195.000000</td>\n",
       "      <td>12189.000000</td>\n",
       "      <td>1.400000e+04</td>\n",
       "    </tr>\n",
       "    <tr>\n",
       "      <th>mean</th>\n",
       "      <td>4862.700357</td>\n",
       "      <td>4.308171</td>\n",
       "      <td>3.134235</td>\n",
       "      <td>3.169825</td>\n",
       "      <td>2.138082e+06</td>\n",
       "    </tr>\n",
       "    <tr>\n",
       "      <th>std</th>\n",
       "      <td>3818.348214</td>\n",
       "      <td>2.441165</td>\n",
       "      <td>2.035950</td>\n",
       "      <td>1.599415</td>\n",
       "      <td>1.083057e+06</td>\n",
       "    </tr>\n",
       "    <tr>\n",
       "      <th>min</th>\n",
       "      <td>0.000000</td>\n",
       "      <td>1.000000</td>\n",
       "      <td>1.000000</td>\n",
       "      <td>1.000000</td>\n",
       "      <td>4.319673e+05</td>\n",
       "    </tr>\n",
       "    <tr>\n",
       "      <th>25%</th>\n",
       "      <td>1672.750000</td>\n",
       "      <td>2.000000</td>\n",
       "      <td>1.000000</td>\n",
       "      <td>2.000000</td>\n",
       "      <td>1.393990e+06</td>\n",
       "    </tr>\n",
       "    <tr>\n",
       "      <th>50%</th>\n",
       "      <td>3527.000000</td>\n",
       "      <td>4.000000</td>\n",
       "      <td>2.000000</td>\n",
       "      <td>3.000000</td>\n",
       "      <td>1.895223e+06</td>\n",
       "    </tr>\n",
       "    <tr>\n",
       "      <th>75%</th>\n",
       "      <td>8011.250000</td>\n",
       "      <td>6.000000</td>\n",
       "      <td>5.000000</td>\n",
       "      <td>4.000000</td>\n",
       "      <td>2.586699e+06</td>\n",
       "    </tr>\n",
       "    <tr>\n",
       "      <th>max</th>\n",
       "      <td>12999.000000</td>\n",
       "      <td>9.000000</td>\n",
       "      <td>7.000000</td>\n",
       "      <td>6.000000</td>\n",
       "      <td>1.656849e+07</td>\n",
       "    </tr>\n",
       "  </tbody>\n",
       "</table>\n",
       "</div>"
      ],
      "text/plain": [
       "                 ID       bedroom      bathroom  parking_space         price\n",
       "count  14000.000000  12201.000000  12195.000000   12189.000000  1.400000e+04\n",
       "mean    4862.700357      4.308171      3.134235       3.169825  2.138082e+06\n",
       "std     3818.348214      2.441165      2.035950       1.599415  1.083057e+06\n",
       "min        0.000000      1.000000      1.000000       1.000000  4.319673e+05\n",
       "25%     1672.750000      2.000000      1.000000       2.000000  1.393990e+06\n",
       "50%     3527.000000      4.000000      2.000000       3.000000  1.895223e+06\n",
       "75%     8011.250000      6.000000      5.000000       4.000000  2.586699e+06\n",
       "max    12999.000000      9.000000      7.000000       6.000000  1.656849e+07"
      ]
     },
     "execution_count": 6,
     "metadata": {},
     "output_type": "execute_result"
    }
   ],
   "source": [
    "# view statistical inference of the data\n",
    "train.describe()"
   ]
  },
  {
   "cell_type": "code",
   "execution_count": 7,
   "id": "62152eed",
   "metadata": {},
   "outputs": [
    {
     "name": "stdout",
     "output_type": "stream",
     "text": [
      "<class 'pandas.core.frame.DataFrame'>\n",
      "RangeIndex: 14000 entries, 0 to 13999\n",
      "Data columns (total 7 columns):\n",
      " #   Column         Non-Null Count  Dtype  \n",
      "---  ------         --------------  -----  \n",
      " 0   ID             14000 non-null  int64  \n",
      " 1   loc            12187 non-null  object \n",
      " 2   title          12278 non-null  object \n",
      " 3   bedroom        12201 non-null  float64\n",
      " 4   bathroom       12195 non-null  float64\n",
      " 5   parking_space  12189 non-null  float64\n",
      " 6   price          14000 non-null  float64\n",
      "dtypes: float64(4), int64(1), object(2)\n",
      "memory usage: 765.8+ KB\n"
     ]
    }
   ],
   "source": [
    "train.info()"
   ]
  },
  {
   "cell_type": "markdown",
   "id": "0ccc31fe",
   "metadata": {},
   "source": [
    "The dataset has some null values. Null values can be very tricky to deal with so we leave them since the model we're using doesn't require the absence of null values."
   ]
  },
  {
   "cell_type": "code",
   "execution_count": 8,
   "id": "69fbe49c",
   "metadata": {},
   "outputs": [
    {
     "data": {
      "text/html": [
       "<div>\n",
       "<style scoped>\n",
       "    .dataframe tbody tr th:only-of-type {\n",
       "        vertical-align: middle;\n",
       "    }\n",
       "\n",
       "    .dataframe tbody tr th {\n",
       "        vertical-align: top;\n",
       "    }\n",
       "\n",
       "    .dataframe thead th {\n",
       "        text-align: right;\n",
       "    }\n",
       "</style>\n",
       "<table border=\"1\" class=\"dataframe\">\n",
       "  <thead>\n",
       "    <tr style=\"text-align: right;\">\n",
       "      <th></th>\n",
       "      <th>ID</th>\n",
       "      <th>loc</th>\n",
       "      <th>title</th>\n",
       "      <th>bedroom</th>\n",
       "      <th>bathroom</th>\n",
       "      <th>parking_space</th>\n",
       "    </tr>\n",
       "  </thead>\n",
       "  <tbody>\n",
       "    <tr>\n",
       "      <th>0</th>\n",
       "      <td>845</td>\n",
       "      <td>Kano</td>\n",
       "      <td>Penthouse</td>\n",
       "      <td>4</td>\n",
       "      <td>1</td>\n",
       "      <td>2</td>\n",
       "    </tr>\n",
       "    <tr>\n",
       "      <th>1</th>\n",
       "      <td>1924</td>\n",
       "      <td>Adamawa</td>\n",
       "      <td>Apartment</td>\n",
       "      <td>2</td>\n",
       "      <td>2</td>\n",
       "      <td>4</td>\n",
       "    </tr>\n",
       "    <tr>\n",
       "      <th>2</th>\n",
       "      <td>10718</td>\n",
       "      <td>Adamawa</td>\n",
       "      <td>Bungalow</td>\n",
       "      <td>2</td>\n",
       "      <td>7</td>\n",
       "      <td>2</td>\n",
       "    </tr>\n",
       "    <tr>\n",
       "      <th>3</th>\n",
       "      <td>12076</td>\n",
       "      <td>Lagos</td>\n",
       "      <td>Mansion</td>\n",
       "      <td>9</td>\n",
       "      <td>5</td>\n",
       "      <td>2</td>\n",
       "    </tr>\n",
       "    <tr>\n",
       "      <th>4</th>\n",
       "      <td>12254</td>\n",
       "      <td>Gombe</td>\n",
       "      <td>Semi-detached duplex</td>\n",
       "      <td>5</td>\n",
       "      <td>6</td>\n",
       "      <td>1</td>\n",
       "    </tr>\n",
       "  </tbody>\n",
       "</table>\n",
       "</div>"
      ],
      "text/plain": [
       "      ID      loc                 title  bedroom  bathroom  parking_space\n",
       "0    845     Kano             Penthouse        4         1              2\n",
       "1   1924  Adamawa             Apartment        2         2              4\n",
       "2  10718  Adamawa              Bungalow        2         7              2\n",
       "3  12076    Lagos               Mansion        9         5              2\n",
       "4  12254    Gombe  Semi-detached duplex        5         6              1"
      ]
     },
     "execution_count": 8,
     "metadata": {},
     "output_type": "execute_result"
    }
   ],
   "source": [
    "# view first five rows of the test dataset\n",
    "test.head()"
   ]
  },
  {
   "cell_type": "code",
   "execution_count": 9,
   "id": "1056632a",
   "metadata": {},
   "outputs": [
    {
     "data": {
      "text/html": [
       "<div>\n",
       "<style scoped>\n",
       "    .dataframe tbody tr th:only-of-type {\n",
       "        vertical-align: middle;\n",
       "    }\n",
       "\n",
       "    .dataframe tbody tr th {\n",
       "        vertical-align: top;\n",
       "    }\n",
       "\n",
       "    .dataframe thead th {\n",
       "        text-align: right;\n",
       "    }\n",
       "</style>\n",
       "<table border=\"1\" class=\"dataframe\">\n",
       "  <thead>\n",
       "    <tr style=\"text-align: right;\">\n",
       "      <th></th>\n",
       "      <th>ID</th>\n",
       "    </tr>\n",
       "  </thead>\n",
       "  <tbody>\n",
       "    <tr>\n",
       "      <th>0</th>\n",
       "      <td>845</td>\n",
       "    </tr>\n",
       "    <tr>\n",
       "      <th>1</th>\n",
       "      <td>1924</td>\n",
       "    </tr>\n",
       "    <tr>\n",
       "      <th>2</th>\n",
       "      <td>10718</td>\n",
       "    </tr>\n",
       "    <tr>\n",
       "      <th>3</th>\n",
       "      <td>12076</td>\n",
       "    </tr>\n",
       "    <tr>\n",
       "      <th>4</th>\n",
       "      <td>12254</td>\n",
       "    </tr>\n",
       "  </tbody>\n",
       "</table>\n",
       "</div>"
      ],
      "text/plain": [
       "      ID\n",
       "0    845\n",
       "1   1924\n",
       "2  10718\n",
       "3  12076\n",
       "4  12254"
      ]
     },
     "execution_count": 9,
     "metadata": {},
     "output_type": "execute_result"
    }
   ],
   "source": [
    "sub.head()"
   ]
  },
  {
   "cell_type": "markdown",
   "id": "422d16c0",
   "metadata": {},
   "source": [
    "##### Before exploring the data for insights, I want to separate the dataset into the six regions (South East, North West, etc.). This should help in getting insights."
   ]
  },
  {
   "cell_type": "code",
   "execution_count": 10,
   "id": "1e73e77e",
   "metadata": {},
   "outputs": [],
   "source": [
    "states_zones_dict = {\n",
    "     'Abia': 'South East',\n",
    "     'Adamawa': 'North East',\n",
    "     'Akwa Ibom': 'South South',\n",
    "     'Anambra': 'South East',\n",
    "     'Bauchi': 'North East',\n",
    "     'Bayelsa': 'South South',\n",
    "     'Benue': 'North Central',\n",
    "     'Borno': 'North East',\n",
    "     'Cross River': 'South South',\n",
    "     'Delta': 'South South',\n",
    "     'Ebonyi': 'South East',\n",
    "     'Edo': 'South South',\n",
    "     'Ekiti': 'South West',\n",
    "     'Enugu': 'South East',\n",
    "     'Gombe': 'North East',\n",
    "     'Imo': 'South East',\n",
    "     'Jigawa': 'North West',\n",
    "     'Kaduna': 'North West',\n",
    "     'Kano': 'North West',\n",
    "     'Katsina': 'North West',\n",
    "     'Kebbi': 'North West',\n",
    "     'Kogi': 'North Central',\n",
    "     'Kwara': 'North Central',\n",
    "     'Lagos': 'South West',\n",
    "     'Nasarawa': 'North Central',\n",
    "     'Niger': 'North Central',\n",
    "     'Ogun': 'South West',\n",
    "     'Ondo': 'South West',\n",
    "     'Osun': 'South West',\n",
    "     'Oyo': 'South West',\n",
    "     'Plateau': 'North Central',\n",
    "     'Rivers': 'South South',\n",
    "     'Sokoto': 'North West',\n",
    "     'Taraba': 'North East',\n",
    "     'Yobe': 'North East',\n",
    "     'Zamfara': 'North West'\n",
    "}"
   ]
  },
  {
   "cell_type": "code",
   "execution_count": 11,
   "id": "f30ed8b7",
   "metadata": {},
   "outputs": [
    {
     "data": {
      "text/html": [
       "<div>\n",
       "<style scoped>\n",
       "    .dataframe tbody tr th:only-of-type {\n",
       "        vertical-align: middle;\n",
       "    }\n",
       "\n",
       "    .dataframe tbody tr th {\n",
       "        vertical-align: top;\n",
       "    }\n",
       "\n",
       "    .dataframe thead th {\n",
       "        text-align: right;\n",
       "    }\n",
       "</style>\n",
       "<table border=\"1\" class=\"dataframe\">\n",
       "  <thead>\n",
       "    <tr style=\"text-align: right;\">\n",
       "      <th></th>\n",
       "      <th>ID</th>\n",
       "      <th>loc</th>\n",
       "      <th>title</th>\n",
       "      <th>bedroom</th>\n",
       "      <th>bathroom</th>\n",
       "      <th>parking_space</th>\n",
       "      <th>price</th>\n",
       "      <th>zones</th>\n",
       "    </tr>\n",
       "  </thead>\n",
       "  <tbody>\n",
       "    <tr>\n",
       "      <th>0</th>\n",
       "      <td>3583</td>\n",
       "      <td>Katsina</td>\n",
       "      <td>Semi-detached duplex</td>\n",
       "      <td>2.0</td>\n",
       "      <td>2.0</td>\n",
       "      <td>1.0</td>\n",
       "      <td>1149999.565</td>\n",
       "      <td>North West</td>\n",
       "    </tr>\n",
       "    <tr>\n",
       "      <th>1</th>\n",
       "      <td>2748</td>\n",
       "      <td>Ondo</td>\n",
       "      <td>Apartment</td>\n",
       "      <td>NaN</td>\n",
       "      <td>2.0</td>\n",
       "      <td>4.0</td>\n",
       "      <td>1672416.689</td>\n",
       "      <td>South West</td>\n",
       "    </tr>\n",
       "    <tr>\n",
       "      <th>2</th>\n",
       "      <td>9261</td>\n",
       "      <td>Ekiti</td>\n",
       "      <td>NaN</td>\n",
       "      <td>7.0</td>\n",
       "      <td>5.0</td>\n",
       "      <td>NaN</td>\n",
       "      <td>3364799.814</td>\n",
       "      <td>South West</td>\n",
       "    </tr>\n",
       "    <tr>\n",
       "      <th>3</th>\n",
       "      <td>2224</td>\n",
       "      <td>Anambra</td>\n",
       "      <td>Detached duplex</td>\n",
       "      <td>5.0</td>\n",
       "      <td>2.0</td>\n",
       "      <td>4.0</td>\n",
       "      <td>2410306.756</td>\n",
       "      <td>South East</td>\n",
       "    </tr>\n",
       "    <tr>\n",
       "      <th>4</th>\n",
       "      <td>10300</td>\n",
       "      <td>Kogi</td>\n",
       "      <td>Terrace duplex</td>\n",
       "      <td>NaN</td>\n",
       "      <td>5.0</td>\n",
       "      <td>6.0</td>\n",
       "      <td>2600700.898</td>\n",
       "      <td>North Central</td>\n",
       "    </tr>\n",
       "  </tbody>\n",
       "</table>\n",
       "</div>"
      ],
      "text/plain": [
       "      ID      loc                 title  bedroom  bathroom  parking_space  \\\n",
       "0   3583  Katsina  Semi-detached duplex      2.0       2.0            1.0   \n",
       "1   2748     Ondo             Apartment      NaN       2.0            4.0   \n",
       "2   9261    Ekiti                   NaN      7.0       5.0            NaN   \n",
       "3   2224  Anambra       Detached duplex      5.0       2.0            4.0   \n",
       "4  10300     Kogi        Terrace duplex      NaN       5.0            6.0   \n",
       "\n",
       "         price          zones  \n",
       "0  1149999.565     North West  \n",
       "1  1672416.689     South West  \n",
       "2  3364799.814     South West  \n",
       "3  2410306.756     South East  \n",
       "4  2600700.898  North Central  "
      ]
     },
     "execution_count": 11,
     "metadata": {},
     "output_type": "execute_result"
    }
   ],
   "source": [
    "# Map the 'loc' column to its corresponding frequency values\n",
    "train['zones'] = train['loc'].map(states_zones_dict)\n",
    "\n",
    "# Print the updated dataframe\n",
    "train.head()\n"
   ]
  },
  {
   "cell_type": "markdown",
   "id": "c13669a4",
   "metadata": {},
   "source": [
    "## Exploratory Data Analysis"
   ]
  },
  {
   "cell_type": "code",
   "execution_count": 12,
   "id": "798c8f6f",
   "metadata": {},
   "outputs": [],
   "source": [
    "# set color for all visualizations\n",
    "base_color = sns.color_palette()[9]"
   ]
  },
  {
   "cell_type": "markdown",
   "id": "051ca4c6",
   "metadata": {},
   "source": [
    "### Distribution of House titles in the dataset"
   ]
  },
  {
   "cell_type": "code",
   "execution_count": 13,
   "id": "bf80b359",
   "metadata": {},
   "outputs": [
    {
     "data": {
      "text/plain": [
       "Flat                    1372\n",
       "Apartment               1331\n",
       "Townhouse               1327\n",
       "Mansion                 1322\n",
       "Detached duplex         1312\n",
       "Penthouse               1306\n",
       "Semi-detached duplex    1299\n",
       "Bungalow                1293\n",
       "Terrace duplex          1266\n",
       "Cottage                  450\n",
       "Name: title, dtype: int64"
      ]
     },
     "execution_count": 13,
     "metadata": {},
     "output_type": "execute_result"
    }
   ],
   "source": [
    "house_titles = train.title.value_counts()\n",
    "\n",
    "house_titles"
   ]
  },
  {
   "cell_type": "code",
   "execution_count": 14,
   "id": "950572a3",
   "metadata": {},
   "outputs": [
    {
     "data": {
      "image/png": "[encoded data removed]",
      "text/plain": [
       "<Figure size 1440x432 with 1 Axes>"
      ]
     },
     "metadata": {
      "needs_background": "light"
     },
     "output_type": "display_data"
    }
   ],
   "source": [
    "# choose the figure size of the plot\n",
    "plt.figure(figsize=(20, 6))\n",
    "\n",
    "# plot bar chart to display the information\n",
    "sns.barplot(x=house_titles.index, y='title', data=house_titles.to_frame(), \n",
    "            order=house_titles.sort_index().index, color=base_color);\n",
    "\n",
    "# necessary labels and title\n",
    "plt.title('Distribution of House titles');\n",
    "plt.xlabel('House titles');\n",
    "plt.ylabel('Number of occurrence');"
   ]
  },
  {
   "cell_type": "markdown",
   "id": "878fd92a",
   "metadata": {},
   "source": [
    "The distribution of house types in the dataset is evenly distributed for all except the `Cottage` house title."
   ]
  },
  {
   "cell_type": "markdown",
   "id": "ca05158a",
   "metadata": {},
   "source": [
    "### Distribution of houses by location in the dataset (Top 10)"
   ]
  },
  {
   "cell_type": "code",
   "execution_count": 15,
   "id": "202a222c",
   "metadata": {},
   "outputs": [
    {
     "data": {
      "text/plain": [
       "loc\n",
       "Kaduna         370\n",
       "Anambra        363\n",
       "Benue          355\n",
       "Yobe           353\n",
       "Kano           351\n",
       "Borno          351\n",
       "Nasarawa       349\n",
       "Cross River    349\n",
       "Imo            348\n",
       "Zamfara        348\n",
       "Name: ID, dtype: int64"
      ]
     },
     "execution_count": 15,
     "metadata": {},
     "output_type": "execute_result"
    }
   ],
   "source": [
    "# group the dataset by states and count any column for the number of houses for each state.\n",
    "num_states = train.groupby('loc').count()['ID'].sort_values(ascending=False)[:10]\n",
    "\n",
    "num_states"
   ]
  },
  {
   "cell_type": "code",
   "execution_count": 16,
   "id": "18aef790",
   "metadata": {},
   "outputs": [
    {
     "data": {
      "image/png": "[encoded data removed]",
      "text/plain": [
       "<Figure size 1440x432 with 1 Axes>"
      ]
     },
     "metadata": {
      "needs_background": "light"
     },
     "output_type": "display_data"
    }
   ],
   "source": [
    "# choose the figure size of the plot\n",
    "plt.figure(figsize=(20, 6))\n",
    "\n",
    "# plot bar chart to display the information\n",
    "sns.barplot(x=num_states.index, y='ID', data=num_states.to_frame(), \n",
    "            order=num_states.index, color=base_color);\n",
    "\n",
    "# necessary labels and title\n",
    "plt.title('Highest occurrences of Houses by state');\n",
    "plt.xlabel('States');\n",
    "plt.ylabel('Number of occurrence');"
   ]
  },
  {
   "cell_type": "markdown",
   "id": "39d5ae7a",
   "metadata": {},
   "source": [
    "Kaduna is the state that occurs most frequently in the data. Although the rest of the states are not far off."
   ]
  },
  {
   "cell_type": "markdown",
   "id": "5442e656",
   "metadata": {},
   "source": [
    "### Distribution of houses by location in the dataset (Bottom 10)"
   ]
  },
  {
   "cell_type": "code",
   "execution_count": 17,
   "id": "2b86e55c",
   "metadata": {},
   "outputs": [
    {
     "data": {
      "text/plain": [
       "loc\n",
       "Edo          302\n",
       "Abia         312\n",
       "Taraba       315\n",
       "Kogi         321\n",
       "Rivers       323\n",
       "Enugu        324\n",
       "Delta        325\n",
       "Sokoto       326\n",
       "Lagos        328\n",
       "Akwa Ibom    329\n",
       "Name: ID, dtype: int64"
      ]
     },
     "execution_count": 17,
     "metadata": {},
     "output_type": "execute_result"
    }
   ],
   "source": [
    "# group the dataset by states and count any column for the number of houses for each state.\n",
    "num_states = train.groupby('loc').count()['ID'].sort_values()[:10]\n",
    "\n",
    "num_states"
   ]
  },
  {
   "cell_type": "code",
   "execution_count": 18,
   "id": "987c0039",
   "metadata": {},
   "outputs": [
    {
     "data": {
      "image/png": "[encoded data removed]",
      "text/plain": [
       "<Figure size 1440x432 with 1 Axes>"
      ]
     },
     "metadata": {
      "needs_background": "light"
     },
     "output_type": "display_data"
    }
   ],
   "source": [
    "# choose the figure size of the plot\n",
    "plt.figure(figsize=(20, 6))\n",
    "\n",
    "# plot bar chart to display the information\n",
    "sns.barplot(x=num_states.index, y='ID', data=num_states.to_frame(), \n",
    "            order=num_states.index, color=base_color);\n",
    "\n",
    "# necessary labels and title\n",
    "plt.title('Lowest occurrences of Houses by state');\n",
    "plt.xlabel('States');\n",
    "plt.ylabel('Number of occurrence');"
   ]
  },
  {
   "cell_type": "markdown",
   "id": "85b29870",
   "metadata": {},
   "source": [
    "Edo appears least in this dataset. It is not far off from Kaduna so the distribution of states in the dataset is even."
   ]
  },
  {
   "cell_type": "markdown",
   "id": "8e765a90",
   "metadata": {},
   "source": [
    "### Average price of houses by zones"
   ]
  },
  {
   "cell_type": "code",
   "execution_count": 19,
   "id": "310ef3a6",
   "metadata": {},
   "outputs": [
    {
     "data": {
      "text/plain": [
       "zones\n",
       "South South      2.725881e+06\n",
       "South West       2.596851e+06\n",
       "South East       2.011843e+06\n",
       "North Central    1.915043e+06\n",
       "North East       1.811737e+06\n",
       "North West       1.802017e+06\n",
       "Name: price, dtype: float64"
      ]
     },
     "execution_count": 19,
     "metadata": {},
     "output_type": "execute_result"
    }
   ],
   "source": [
    "# group the dataset by states and find the mean of the price column.\n",
    "avg_zones = train.groupby('zones').mean()['price'].sort_values(ascending=False)\n",
    "\n",
    "avg_zones"
   ]
  },
  {
   "cell_type": "code",
   "execution_count": 20,
   "id": "9df1b936",
   "metadata": {},
   "outputs": [
    {
     "data": {
      "image/png": "[encoded data removed]",
      "text/plain": [
       "<Figure size 1080x432 with 1 Axes>"
      ]
     },
     "metadata": {
      "needs_background": "light"
     },
     "output_type": "display_data"
    }
   ],
   "source": [
    "# choose the figure size of the plot\n",
    "plt.figure(figsize=(15, 6))\n",
    "\n",
    "# plot bar chart to display the information\n",
    "sns.barplot(x=avg_zones.index, y='price', data=avg_zones.to_frame(), \n",
    "            order=avg_zones.index, color=base_color);\n",
    "\n",
    "# necessary labels and title\n",
    "plt.title('Zones and their average house prices');\n",
    "plt.xlabel('Zones');\n",
    "plt.ylabel('Average house price');"
   ]
  },
  {
   "cell_type": "markdown",
   "id": "18b87fd5",
   "metadata": {},
   "source": [
    "South South zone has the highest average house price, closely followed by South West. The North zones have the lowest average price while the South zones have the highest average price."
   ]
  },
  {
   "cell_type": "code",
   "execution_count": null,
   "id": "2dd162eb",
   "metadata": {},
   "outputs": [],
   "source": []
  },
  {
   "cell_type": "markdown",
   "id": "3bf16515",
   "metadata": {},
   "source": [
    "### Average price of houses by location (Top 10 highest)"
   ]
  },
  {
   "cell_type": "code",
   "execution_count": 21,
   "id": "3463f203",
   "metadata": {},
   "outputs": [
    {
     "data": {
      "text/plain": [
       "loc\n",
       "Lagos          4.210546e+06\n",
       "Bayelsa        3.112322e+06\n",
       "Rivers         2.957098e+06\n",
       "Akwa Ibom      2.725454e+06\n",
       "Delta          2.712493e+06\n",
       "Ogun           2.564020e+06\n",
       "Cross River    2.507765e+06\n",
       "Anambra        2.337230e+06\n",
       "Edo            2.310452e+06\n",
       "Oyo            2.293159e+06\n",
       "Name: price, dtype: float64"
      ]
     },
     "execution_count": 21,
     "metadata": {},
     "output_type": "execute_result"
    }
   ],
   "source": [
    "# group the dataset by states and find the mean of the price column.\n",
    "avg_states = train.groupby('loc').mean()['price'].sort_values(ascending=False)[:10]\n",
    "\n",
    "avg_states"
   ]
  },
  {
   "cell_type": "code",
   "execution_count": 22,
   "id": "ab76e9d5",
   "metadata": {},
   "outputs": [
    {
     "data": {
      "image/png": "[encoded data removed]",
      "text/plain": [
       "<Figure size 1440x432 with 1 Axes>"
      ]
     },
     "metadata": {
      "needs_background": "light"
     },
     "output_type": "display_data"
    }
   ],
   "source": [
    "# choose the figure size of the plot\n",
    "plt.figure(figsize=(20, 6))\n",
    "\n",
    "# plot bar chart to display the information\n",
    "sns.barplot(x=avg_states.index, y='price', data=avg_states.to_frame(), \n",
    "            order=avg_states.index, color=base_color);\n",
    "\n",
    "# necessary labels and title\n",
    "plt.title('Top states with the highest average house prices');\n",
    "plt.xlabel('States');\n",
    "plt.ylabel('Average house price');"
   ]
  },
  {
   "cell_type": "markdown",
   "id": "2733666a",
   "metadata": {},
   "source": [
    "Lagos has the highest average house price. The difference from the next stat is quite a lot so on average we can say that houses in Lagos are quite high.\n",
    "\n",
    "The South South zone has the highest average house price of all the zones. The prices of houses in Lagos could be increasing the average house prices in the South West zone."
   ]
  },
  {
   "cell_type": "code",
   "execution_count": 23,
   "id": "c04b88b6",
   "metadata": {},
   "outputs": [
    {
     "data": {
      "text/plain": [
       "zones\n",
       "South South      2.725881e+06\n",
       "South West       2.286234e+06\n",
       "South East       2.011843e+06\n",
       "North Central    1.915043e+06\n",
       "North East       1.811737e+06\n",
       "North West       1.802017e+06\n",
       "Name: price, dtype: float64"
      ]
     },
     "execution_count": 23,
     "metadata": {},
     "output_type": "execute_result"
    }
   ],
   "source": [
    "# group the dataset by states and find the mean of the price column. Exclude Lagos state.\n",
    "avg_zones = train[train['loc'] != 'Lagos'].groupby('zones').mean()['price'].sort_values(ascending=False)\n",
    "\n",
    "avg_zones"
   ]
  },
  {
   "cell_type": "code",
   "execution_count": 24,
   "id": "6f26a332",
   "metadata": {},
   "outputs": [
    {
     "data": {
      "image/png": "[encoded data removed]",
      "text/plain": [
       "<Figure size 1080x432 with 1 Axes>"
      ]
     },
     "metadata": {
      "needs_background": "light"
     },
     "output_type": "display_data"
    }
   ],
   "source": [
    "# choose the figure size of the plot\n",
    "plt.figure(figsize=(15, 6))\n",
    "\n",
    "# plot bar chart to display the information\n",
    "sns.barplot(x=avg_zones.index, y='price', data=avg_zones.to_frame(), \n",
    "            order=avg_zones.index, color=base_color);\n",
    "\n",
    "# necessary labels and title\n",
    "plt.title('Zones and their average house prices');\n",
    "plt.xlabel('Zones');\n",
    "plt.ylabel('Average house price');"
   ]
  },
  {
   "cell_type": "markdown",
   "id": "94f55258",
   "metadata": {},
   "source": [
    "The average price for South West further establishing the gap between South West and South South. \n",
    "\n",
    "This also confirms the influence that Lagos state has on the average house price in the South West zone."
   ]
  },
  {
   "cell_type": "markdown",
   "id": "985092c2",
   "metadata": {},
   "source": [
    "### Average price of houses by location (Top 10 lowest)"
   ]
  },
  {
   "cell_type": "code",
   "execution_count": 25,
   "id": "e945f997",
   "metadata": {},
   "outputs": [
    {
     "data": {
      "text/plain": [
       "loc\n",
       "Kebbi      1.616372e+06\n",
       "Ebonyi     1.635850e+06\n",
       "Sokoto     1.681016e+06\n",
       "Zamfara    1.689541e+06\n",
       "Abia       1.717083e+06\n",
       "Borno      1.735704e+06\n",
       "Jigawa     1.735867e+06\n",
       "Yobe       1.747938e+06\n",
       "Kogi       1.763416e+06\n",
       "Bauchi     1.772961e+06\n",
       "Name: price, dtype: float64"
      ]
     },
     "execution_count": 25,
     "metadata": {},
     "output_type": "execute_result"
    }
   ],
   "source": [
    "# group the dataset by states and find the mean of the price column.\n",
    "avg_states = train.groupby('loc').mean()['price'].sort_values()[:10]\n",
    "\n",
    "avg_states"
   ]
  },
  {
   "cell_type": "code",
   "execution_count": 26,
   "id": "512fa3fe",
   "metadata": {},
   "outputs": [
    {
     "data": {
      "image/png": "[encoded data removed]",
      "text/plain": [
       "<Figure size 1440x432 with 1 Axes>"
      ]
     },
     "metadata": {
      "needs_background": "light"
     },
     "output_type": "display_data"
    }
   ],
   "source": [
    "# choose the figure size of the plot\n",
    "plt.figure(figsize=(20, 6))\n",
    "\n",
    "# plot bar chart to display the information\n",
    "sns.barplot(x=avg_states.index, y='price', data=avg_states.to_frame(), \n",
    "            order=avg_states.index, color=base_color);\n",
    "\n",
    "# necessary labels and title\n",
    "plt.title('Top states with the lowest average house prices');\n",
    "plt.xlabel('States');\n",
    "plt.ylabel('Average house price');"
   ]
  },
  {
   "cell_type": "markdown",
   "id": "65cea8fc",
   "metadata": {},
   "source": [
    "Kebbi has the lowest average house price at 1.6 million. It is far from Lagos, which is at 4.2 million.\n",
    "\n",
    "Notice that Abia state is the only state from the Southern zone that entered this top 10."
   ]
  },
  {
   "cell_type": "markdown",
   "id": "d1ff6c17",
   "metadata": {},
   "source": [
    "### Relationship between number of bedrooms and price"
   ]
  },
  {
   "cell_type": "code",
   "execution_count": 27,
   "id": "4f17a8dc",
   "metadata": {},
   "outputs": [
    {
     "data": {
      "text/plain": [
       "Text(0, 0.5, 'Price')"
      ]
     },
     "execution_count": 27,
     "metadata": {},
     "output_type": "execute_result"
    },
    {
     "data": {
      "image/png": "[encoded data removed]",
      "text/plain": [
       "<Figure size 720x432 with 1 Axes>"
      ]
     },
     "metadata": {
      "needs_background": "light"
     },
     "output_type": "display_data"
    }
   ],
   "source": [
    "# Relationship between number of bedrooms and house price\n",
    "# Using strip plit because of the jitter parameter. \n",
    "# Using a scatterplot would not be too useful because the x variable is categorical\n",
    "\n",
    "# choose the figure size of the plot\n",
    "plt.figure(figsize=(10, 6))\n",
    "\n",
    "sns.stripplot(x=train['bedroom'], y=train['price'], color=base_color)\n",
    "\n",
    "# labels and title\n",
    "plt.title('Relationship between number of bedrooms and price')\n",
    "plt.xlabel('Bedrooms')\n",
    "plt.ylabel('Price')"
   ]
  },
  {
   "cell_type": "markdown",
   "id": "58c23ebd",
   "metadata": {},
   "source": [
    "As seen at the bottom of the strip plot, there is a correlation between price and number of bedrooms. As the number of bedrooms increase, the price increases."
   ]
  },
  {
   "cell_type": "markdown",
   "id": "bd205276",
   "metadata": {},
   "source": [
    "### Relationship between number of bathrooms and price"
   ]
  },
  {
   "cell_type": "code",
   "execution_count": 28,
   "id": "5272d752",
   "metadata": {},
   "outputs": [
    {
     "data": {
      "text/plain": [
       "Text(0, 0.5, 'Price')"
      ]
     },
     "execution_count": 28,
     "metadata": {},
     "output_type": "execute_result"
    },
    {
     "data": {
      "image/png": "[encoded data removed]",
      "text/plain": [
       "<Figure size 720x432 with 1 Axes>"
      ]
     },
     "metadata": {
      "needs_background": "light"
     },
     "output_type": "display_data"
    }
   ],
   "source": [
    "# Relationship between number of bathrooms and house price\n",
    "\n",
    "# choose the figure size of the plot\n",
    "plt.figure(figsize=(10, 6))\n",
    "\n",
    "sns.stripplot(x=train['bathroom'], y=train['price'], color=base_color)\n",
    "\n",
    "# labels and title\n",
    "plt.title('Relationship between number of bathrooms and price')\n",
    "plt.xlabel('Bathrooms')\n",
    "plt.ylabel('Price')"
   ]
  },
  {
   "cell_type": "markdown",
   "id": "0c50f7de",
   "metadata": {},
   "source": [
    "There is no clear correlation between number of bathrooms and price. There are some unusually high values of price in the plot which could be as a result of other features like the type of house."
   ]
  },
  {
   "cell_type": "markdown",
   "id": "b98781bf",
   "metadata": {},
   "source": [
    "### Average number of bedrooms for each house title."
   ]
  },
  {
   "cell_type": "code",
   "execution_count": 29,
   "id": "1b64cdf9",
   "metadata": {},
   "outputs": [
    {
     "data": {
      "text/plain": [
       "title\n",
       "Cottage                 2.905512\n",
       "Townhouse               4.298759\n",
       "Detached duplex         4.327840\n",
       "Mansion                 4.333929\n",
       "Terrace duplex          4.340639\n",
       "Penthouse               4.342982\n",
       "Apartment               4.344219\n",
       "Flat                    4.378877\n",
       "Bungalow                4.402852\n",
       "Semi-detached duplex    4.414903\n",
       "Name: bedroom, dtype: float64"
      ]
     },
     "execution_count": 29,
     "metadata": {},
     "output_type": "execute_result"
    }
   ],
   "source": [
    "# group the dataset by states and find the mean of the price column.\n",
    "avg_bedrooms = train.groupby('title').mean()['bedroom'].sort_values()[:10]\n",
    "\n",
    "avg_bedrooms"
   ]
  },
  {
   "cell_type": "code",
   "execution_count": 30,
   "id": "debab143",
   "metadata": {},
   "outputs": [
    {
     "data": {
      "image/png": "[encoded data removed]",
      "text/plain": [
       "<Figure size 1440x432 with 1 Axes>"
      ]
     },
     "metadata": {
      "needs_background": "light"
     },
     "output_type": "display_data"
    }
   ],
   "source": [
    "# choose the figure size of the plot\n",
    "plt.figure(figsize=(20, 6))\n",
    "\n",
    "# plot bar chart to display the information\n",
    "sns.barplot(x=avg_bedrooms.index, y='bedroom', data=avg_bedrooms.to_frame(), \n",
    "            order=avg_bedrooms.index, color=base_color);\n",
    "\n",
    "# necessary labels and title\n",
    "plt.title('House titles and their average number of bedrooms');\n",
    "plt.xlabel('Titles');\n",
    "plt.ylabel('Average number of bedrooms');"
   ]
  },
  {
   "cell_type": "markdown",
   "id": "47be0770",
   "metadata": {},
   "source": [
    "The average number of bedrooms is pretty much the same for all types of houses except the `Cottage` houe title"
   ]
  },
  {
   "cell_type": "markdown",
   "id": "18220a5f",
   "metadata": {},
   "source": [
    "### Distribution of number of parking spaces in the dataset."
   ]
  },
  {
   "cell_type": "code",
   "execution_count": 31,
   "id": "f0967839",
   "metadata": {},
   "outputs": [
    {
     "data": {
      "text/plain": [
       "4.0    2419\n",
       "2.0    2394\n",
       "3.0    2378\n",
       "1.0    2324\n",
       "6.0    1345\n",
       "5.0    1329\n",
       "Name: parking_space, dtype: int64"
      ]
     },
     "execution_count": 31,
     "metadata": {},
     "output_type": "execute_result"
    }
   ],
   "source": [
    "dist_parking_space = train.parking_space.value_counts()\n",
    "\n",
    "dist_parking_space"
   ]
  },
  {
   "cell_type": "code",
   "execution_count": 32,
   "id": "74d603e3",
   "metadata": {},
   "outputs": [
    {
     "data": {
      "image/png": "[encoded data removed]",
      "text/plain": [
       "<Figure size 1080x432 with 1 Axes>"
      ]
     },
     "metadata": {
      "needs_background": "light"
     },
     "output_type": "display_data"
    }
   ],
   "source": [
    "# choose the figure size of the plot\n",
    "plt.figure(figsize=(15, 6))\n",
    "\n",
    "# plot bar chart to display the information\n",
    "sns.barplot(x=dist_parking_space.index, y='parking_space', data=dist_parking_space.to_frame(), \n",
    "            order=dist_parking_space.sort_index().index, color=base_color);\n",
    "\n",
    "# necessary labels and title\n",
    "plt.title('Distribution of parking spaces');\n",
    "plt.xlabel('Parking spaces');\n",
    "plt.ylabel('Number of occurrence');"
   ]
  },
  {
   "cell_type": "markdown",
   "id": "0ef7075c",
   "metadata": {},
   "source": [
    "A significant amount of houses in this dataset have 3 parking spaces. 1, 2 and 4 parking spaces are shared evenly. 5 and 6 parking spaces occur far less than the others."
   ]
  },
  {
   "cell_type": "markdown",
   "id": "6e6dc32d",
   "metadata": {},
   "source": [
    "### Are there outliers in the price column?"
   ]
  },
  {
   "cell_type": "code",
   "execution_count": 33,
   "id": "4f79bc26",
   "metadata": {},
   "outputs": [
    {
     "data": {
      "text/plain": [
       "count    1.400000e+04\n",
       "mean     2.138082e+06\n",
       "std      1.083057e+06\n",
       "min      4.319673e+05\n",
       "25%      1.393990e+06\n",
       "50%      1.895223e+06\n",
       "75%      2.586699e+06\n",
       "max      1.656849e+07\n",
       "Name: price, dtype: float64"
      ]
     },
     "execution_count": 33,
     "metadata": {},
     "output_type": "execute_result"
    }
   ],
   "source": [
    "train.price.describe()"
   ]
  },
  {
   "cell_type": "markdown",
   "id": "d4d51d9b",
   "metadata": {},
   "source": [
    "Let's check the samples that contain the minimum and maximum price to ensure that it makes sense."
   ]
  },
  {
   "cell_type": "code",
   "execution_count": 34,
   "id": "929db7bd",
   "metadata": {},
   "outputs": [
    {
     "data": {
      "text/html": [
       "<div>\n",
       "<style scoped>\n",
       "    .dataframe tbody tr th:only-of-type {\n",
       "        vertical-align: middle;\n",
       "    }\n",
       "\n",
       "    .dataframe tbody tr th {\n",
       "        vertical-align: top;\n",
       "    }\n",
       "\n",
       "    .dataframe thead th {\n",
       "        text-align: right;\n",
       "    }\n",
       "</style>\n",
       "<table border=\"1\" class=\"dataframe\">\n",
       "  <thead>\n",
       "    <tr style=\"text-align: right;\">\n",
       "      <th></th>\n",
       "      <th>ID</th>\n",
       "      <th>loc</th>\n",
       "      <th>title</th>\n",
       "      <th>bedroom</th>\n",
       "      <th>bathroom</th>\n",
       "      <th>parking_space</th>\n",
       "      <th>price</th>\n",
       "      <th>zones</th>\n",
       "    </tr>\n",
       "  </thead>\n",
       "  <tbody>\n",
       "    <tr>\n",
       "      <th>4481</th>\n",
       "      <td>2606</td>\n",
       "      <td>Gombe</td>\n",
       "      <td>Cottage</td>\n",
       "      <td>1.0</td>\n",
       "      <td>2.0</td>\n",
       "      <td>1.0</td>\n",
       "      <td>431967.29</td>\n",
       "      <td>North East</td>\n",
       "    </tr>\n",
       "  </tbody>\n",
       "</table>\n",
       "</div>"
      ],
      "text/plain": [
       "        ID    loc    title  bedroom  bathroom  parking_space      price  \\\n",
       "4481  2606  Gombe  Cottage      1.0       2.0            1.0  431967.29   \n",
       "\n",
       "           zones  \n",
       "4481  North East  "
      ]
     },
     "execution_count": 34,
     "metadata": {},
     "output_type": "execute_result"
    }
   ],
   "source": [
    "train[train['price'] == train.price.min()]"
   ]
  },
  {
   "cell_type": "code",
   "execution_count": 35,
   "id": "399bee59",
   "metadata": {},
   "outputs": [
    {
     "data": {
      "text/html": [
       "<div>\n",
       "<style scoped>\n",
       "    .dataframe tbody tr th:only-of-type {\n",
       "        vertical-align: middle;\n",
       "    }\n",
       "\n",
       "    .dataframe tbody tr th {\n",
       "        vertical-align: top;\n",
       "    }\n",
       "\n",
       "    .dataframe thead th {\n",
       "        text-align: right;\n",
       "    }\n",
       "</style>\n",
       "<table border=\"1\" class=\"dataframe\">\n",
       "  <thead>\n",
       "    <tr style=\"text-align: right;\">\n",
       "      <th></th>\n",
       "      <th>ID</th>\n",
       "      <th>loc</th>\n",
       "      <th>title</th>\n",
       "      <th>bedroom</th>\n",
       "      <th>bathroom</th>\n",
       "      <th>parking_space</th>\n",
       "      <th>price</th>\n",
       "      <th>zones</th>\n",
       "    </tr>\n",
       "  </thead>\n",
       "  <tbody>\n",
       "    <tr>\n",
       "      <th>7969</th>\n",
       "      <td>1073</td>\n",
       "      <td>Lagos</td>\n",
       "      <td>Mansion</td>\n",
       "      <td>5.0</td>\n",
       "      <td>NaN</td>\n",
       "      <td>3.0</td>\n",
       "      <td>16568486.16</td>\n",
       "      <td>South West</td>\n",
       "    </tr>\n",
       "  </tbody>\n",
       "</table>\n",
       "</div>"
      ],
      "text/plain": [
       "        ID    loc    title  bedroom  bathroom  parking_space        price  \\\n",
       "7969  1073  Lagos  Mansion      5.0       NaN            3.0  16568486.16   \n",
       "\n",
       "           zones  \n",
       "7969  South West  "
      ]
     },
     "execution_count": 35,
     "metadata": {},
     "output_type": "execute_result"
    }
   ],
   "source": [
    "train[train['price'] == train.price.max()]"
   ]
  },
  {
   "cell_type": "markdown",
   "id": "df3c835f",
   "metadata": {},
   "source": [
    "There doesn't seem to be outliers in the `price` column. As expected, the `Cottage` house title has the least price and the `Mansion` house title has the highest price."
   ]
  },
  {
   "cell_type": "markdown",
   "id": "7802b582",
   "metadata": {},
   "source": [
    "### Average price of houses by number of bedrooms."
   ]
  },
  {
   "cell_type": "code",
   "execution_count": 36,
   "id": "c448e9e3",
   "metadata": {},
   "outputs": [
    {
     "data": {
      "text/plain": [
       "bedroom\n",
       "1.0    1.415794e+06\n",
       "2.0    1.594927e+06\n",
       "3.0    1.824883e+06\n",
       "4.0    2.037854e+06\n",
       "5.0    2.230842e+06\n",
       "6.0    2.583971e+06\n",
       "7.0    2.793135e+06\n",
       "8.0    3.048735e+06\n",
       "9.0    3.286542e+06\n",
       "Name: price, dtype: float64"
      ]
     },
     "execution_count": 36,
     "metadata": {},
     "output_type": "execute_result"
    }
   ],
   "source": [
    "# group the dataset by bedrooms and find the mean of the price column.\n",
    "avg_price_bedrooms = train.groupby('bedroom').mean()['price'].sort_values()\n",
    "\n",
    "avg_price_bedrooms"
   ]
  },
  {
   "cell_type": "code",
   "execution_count": 37,
   "id": "9a1db5d0",
   "metadata": {},
   "outputs": [
    {
     "data": {
      "image/png": "[encoded data removed]",
      "text/plain": [
       "<Figure size 1440x432 with 1 Axes>"
      ]
     },
     "metadata": {
      "needs_background": "light"
     },
     "output_type": "display_data"
    }
   ],
   "source": [
    "# choose the figure size of the plot\n",
    "plt.figure(figsize=(20, 6))\n",
    "\n",
    "# plot bar chart to display the information\n",
    "sns.barplot(x=avg_price_bedrooms.index, y='price', data=avg_price_bedrooms.to_frame(), \n",
    "            order=avg_price_bedrooms.index, color=base_color);\n",
    "\n",
    "# necessary labels and title\n",
    "plt.title('Average house price per number of bedrooms');\n",
    "plt.xlabel('Number of bedrooms');\n",
    "plt.ylabel('Average house price');"
   ]
  },
  {
   "cell_type": "markdown",
   "id": "cf163590",
   "metadata": {},
   "source": [
    "As seen in the plot above, as the number of bedrooms increase, the average house price increases. There seems to be a very strong correlation between number of bedrooms and house price"
   ]
  },
  {
   "cell_type": "markdown",
   "id": "9c162f36",
   "metadata": {},
   "source": [
    "### Average price of houses by number of bathrooms."
   ]
  },
  {
   "cell_type": "code",
   "execution_count": 38,
   "id": "e97014b4",
   "metadata": {},
   "outputs": [
    {
     "data": {
      "text/plain": [
       "bathroom\n",
       "1.0    1.875436e+06\n",
       "2.0    1.939928e+06\n",
       "3.0    2.270404e+06\n",
       "5.0    2.386897e+06\n",
       "4.0    2.395221e+06\n",
       "7.0    2.460592e+06\n",
       "6.0    2.486154e+06\n",
       "Name: price, dtype: float64"
      ]
     },
     "execution_count": 38,
     "metadata": {},
     "output_type": "execute_result"
    }
   ],
   "source": [
    "# group the dataset by bathrooms and find the mean of the price column.\n",
    "avg_price_bathrooms = train.groupby('bathroom').mean()['price'].sort_values()\n",
    "\n",
    "avg_price_bathrooms"
   ]
  },
  {
   "cell_type": "code",
   "execution_count": 39,
   "id": "dbd83c86",
   "metadata": {},
   "outputs": [
    {
     "data": {
      "image/png": "[encoded data removed]",
      "text/plain": [
       "<Figure size 1440x432 with 1 Axes>"
      ]
     },
     "metadata": {
      "needs_background": "light"
     },
     "output_type": "display_data"
    }
   ],
   "source": [
    "# choose the figure size of the plot\n",
    "plt.figure(figsize=(20, 6))\n",
    "\n",
    "# plot bar chart to display the information\n",
    "sns.barplot(x=avg_price_bathrooms.index, y='price', data=avg_price_bathrooms.to_frame(), \n",
    "            order=avg_price_bathrooms.index, color=base_color);\n",
    "\n",
    "# necessary labels and title\n",
    "plt.title('Average house price per number of bathrooms');\n",
    "plt.xlabel('Number of bathrooms');\n",
    "plt.ylabel('Average house price');"
   ]
  },
  {
   "cell_type": "markdown",
   "id": "496b4840",
   "metadata": {},
   "source": [
    "There seems to be an increase in average house prices as the number of bathrooms increase. It is not as distince as the `bedroom` column though"
   ]
  },
  {
   "cell_type": "markdown",
   "id": "480aa58f",
   "metadata": {},
   "source": [
    "### Highest median house prices by location."
   ]
  },
  {
   "cell_type": "code",
   "execution_count": 40,
   "id": "e5027b39",
   "metadata": {},
   "outputs": [
    {
     "data": {
      "text/plain": [
       "loc\n",
       "Lagos          3.845226e+06\n",
       "Bayelsa        2.844060e+06\n",
       "Rivers         2.569030e+06\n",
       "Akwa Ibom      2.505120e+06\n",
       "Delta          2.401926e+06\n",
       "Ogun           2.348871e+06\n",
       "Cross River    2.209130e+06\n",
       "Ondo           2.094914e+06\n",
       "Anambra        2.092779e+06\n",
       "Enugu          2.020827e+06\n",
       "Name: price, dtype: float64"
      ]
     },
     "execution_count": 40,
     "metadata": {},
     "output_type": "execute_result"
    }
   ],
   "source": [
    "# group the dataset by bathrooms and find the mean of the price column.\n",
    "median_price_states = train.groupby('loc').median()['price'].sort_values(ascending=False)[:10]\n",
    "\n",
    "median_price_states"
   ]
  },
  {
   "cell_type": "code",
   "execution_count": 41,
   "id": "70d3315e",
   "metadata": {},
   "outputs": [
    {
     "data": {
      "image/png": "[encoded data removed]",
      "text/plain": [
       "<Figure size 1440x432 with 1 Axes>"
      ]
     },
     "metadata": {
      "needs_background": "light"
     },
     "output_type": "display_data"
    }
   ],
   "source": [
    "# choose the figure size of the plot\n",
    "plt.figure(figsize=(20, 6))\n",
    "\n",
    "# plot bar chart to display the information\n",
    "sns.barplot(x=median_price_states.index, y='price', data=median_price_states.to_frame(), \n",
    "            order=median_price_states.index, color=base_color);\n",
    "\n",
    "# necessary labels and title\n",
    "plt.title('Highest Median house prices per state');\n",
    "plt.xlabel('States');\n",
    "plt.ylabel('Median house price');"
   ]
  },
  {
   "cell_type": "markdown",
   "id": "cfe1a7ae",
   "metadata": {},
   "source": [
    "Lagos has the highest median price out of all the states. \n",
    "\n",
    "The top 10 highest median prices by state is a bit different from the top 10 highest average prices by state. This suggests that there are some houses in some states with very high or very low house prices that is manipulating the average values."
   ]
  },
  {
   "cell_type": "markdown",
   "id": "b45e2fc0",
   "metadata": {},
   "source": [
    "###  Lowest median house prices by location."
   ]
  },
  {
   "cell_type": "code",
   "execution_count": 42,
   "id": "aa3f63fe",
   "metadata": {},
   "outputs": [
    {
     "data": {
      "text/plain": [
       "loc\n",
       "Ebonyi     1.454981e+06\n",
       "Borno      1.480444e+06\n",
       "Kebbi      1.495141e+06\n",
       "Zamfara    1.541111e+06\n",
       "Abia       1.544623e+06\n",
       "Yobe       1.550091e+06\n",
       "Sokoto     1.558253e+06\n",
       "Bauchi     1.570721e+06\n",
       "Jigawa     1.603510e+06\n",
       "Kogi       1.605070e+06\n",
       "Name: price, dtype: float64"
      ]
     },
     "execution_count": 42,
     "metadata": {},
     "output_type": "execute_result"
    }
   ],
   "source": [
    "# group the dataset by bathrooms and find the mean of the price column.\n",
    "median_price_states = train.groupby('loc').median()['price'].sort_values()[:10]\n",
    "\n",
    "median_price_states"
   ]
  },
  {
   "cell_type": "code",
   "execution_count": 43,
   "id": "68a936d2",
   "metadata": {},
   "outputs": [
    {
     "data": {
      "image/png": "[encoded data removed]",
      "text/plain": [
       "<Figure size 1440x432 with 1 Axes>"
      ]
     },
     "metadata": {
      "needs_background": "light"
     },
     "output_type": "display_data"
    }
   ],
   "source": [
    "# choose the figure size of the plot\n",
    "plt.figure(figsize=(20, 6))\n",
    "\n",
    "# plot bar chart to display the information\n",
    "sns.barplot(x=median_price_states.index, y='price', data=median_price_states.to_frame(), \n",
    "            order=median_price_states.index, color=base_color);\n",
    "\n",
    "# necessary labels and title\n",
    "plt.title('Lowest Median house prices per state');\n",
    "plt.xlabel('States');\n",
    "plt.ylabel('Median house price');"
   ]
  },
  {
   "cell_type": "markdown",
   "id": "1f08f7db",
   "metadata": {},
   "source": [
    "Ebonyi has the lowest median house price out of all the states. This is different from the lowest average house price.\n",
    "\n",
    "The Northern states still make up most of the top 10 here. Only Abia and Ebonyi are Southern states. South-east specifically."
   ]
  },
  {
   "cell_type": "markdown",
   "id": "2ba97044",
   "metadata": {},
   "source": [
    "### Average house price by title "
   ]
  },
  {
   "cell_type": "code",
   "execution_count": 44,
   "id": "8a2bab1d",
   "metadata": {},
   "outputs": [
    {
     "data": {
      "text/plain": [
       "title\n",
       "Mansion                 3.725768e+06\n",
       "Penthouse               2.628945e+06\n",
       "Detached duplex         2.205883e+06\n",
       "Townhouse               2.056125e+06\n",
       "Terrace duplex          1.927270e+06\n",
       "Semi-detached duplex    1.918468e+06\n",
       "Bungalow                1.733845e+06\n",
       "Flat                    1.721875e+06\n",
       "Apartment               1.567004e+06\n",
       "Cottage                 1.307817e+06\n",
       "Name: price, dtype: float64"
      ]
     },
     "execution_count": 44,
     "metadata": {},
     "output_type": "execute_result"
    }
   ],
   "source": [
    "# group the dataset by title and find the mean of the price column.\n",
    "avg_price_title = train.groupby('title').mean()['price'].sort_values(ascending=False)\n",
    "\n",
    "avg_price_title"
   ]
  },
  {
   "cell_type": "code",
   "execution_count": 45,
   "id": "4a8ab093",
   "metadata": {},
   "outputs": [
    {
     "data": {
      "image/png": "[encoded data removed]",
      "text/plain": [
       "<Figure size 1440x432 with 1 Axes>"
      ]
     },
     "metadata": {
      "needs_background": "light"
     },
     "output_type": "display_data"
    }
   ],
   "source": [
    "# choose the figure size of the plot\n",
    "plt.figure(figsize=(20, 6))\n",
    "\n",
    "# plot bar chart to display the information\n",
    "sns.barplot(x=avg_price_title.index, y='price', data=avg_price_title.to_frame(), \n",
    "            order=avg_price_title.index, color=base_color);\n",
    "\n",
    "# necessary labels and title\n",
    "plt.title('Average house prices for each house title');\n",
    "plt.xlabel('Title');\n",
    "plt.ylabel('Average house price');"
   ]
  },
  {
   "cell_type": "markdown",
   "id": "17acf2b2",
   "metadata": {},
   "source": [
    "As expected, the `Mansion` has the highest average house price and the `Cottage` has the lowest average house price."
   ]
  },
  {
   "cell_type": "markdown",
   "id": "d0d402f3",
   "metadata": {},
   "source": [
    "### Is there a correlation between the number of bedrooms and bathrooms?"
   ]
  },
  {
   "cell_type": "code",
   "execution_count": 46,
   "id": "43ea4e04",
   "metadata": {},
   "outputs": [
    {
     "data": {
      "text/plain": [
       "Text(0.5, 1.0, 'Relationship between Number of bedrooms and Number of bathrooms')"
      ]
     },
     "execution_count": 46,
     "metadata": {},
     "output_type": "execute_result"
    },
    {
     "data": {
      "image/png": "[encoded data removed]",
      "text/plain": [
       "<Figure size 864x432 with 1 Axes>"
      ]
     },
     "metadata": {
      "needs_background": "light"
     },
     "output_type": "display_data"
    }
   ],
   "source": [
    "# choose the figure size of the plot\n",
    "plt.figure(figsize=(12, 6))\n",
    "\n",
    "# plot relationship between bedroom and bathroom using scatterplot\n",
    "sns.scatterplot(x=train['bedroom'], y=train['bathroom']);\n",
    "\n",
    "# Add necessary labels and title\n",
    "plt.xlabel('Number of bedrooms')\n",
    "plt.ylabel('Number of bathrooms')\n",
    "plt.title('Relationship between Number of bedrooms and Number of bathrooms')"
   ]
  },
  {
   "cell_type": "markdown",
   "id": "52d56972",
   "metadata": {},
   "source": [
    "From the plot above, there is no clear correlation between number of bedrooms and number of bathrooms."
   ]
  },
  {
   "cell_type": "markdown",
   "id": "f9a53e7c",
   "metadata": {},
   "source": [
    "### Highest price for each of the house types"
   ]
  },
  {
   "cell_type": "code",
   "execution_count": 47,
   "id": "d30d0456",
   "metadata": {},
   "outputs": [
    {
     "data": {
      "text/plain": [
       "title\n",
       "Mansion                 1.656849e+07\n",
       "Penthouse               8.342144e+06\n",
       "Detached duplex         6.145977e+06\n",
       "Terrace duplex          5.669571e+06\n",
       "Townhouse               5.369145e+06\n",
       "Cottage                 5.359255e+06\n",
       "Semi-detached duplex    4.994274e+06\n",
       "Flat                    4.966246e+06\n",
       "Bungalow                4.703051e+06\n",
       "Apartment               4.159241e+06\n",
       "Name: price, dtype: float64"
      ]
     },
     "execution_count": 47,
     "metadata": {},
     "output_type": "execute_result"
    }
   ],
   "source": [
    "max_price_title = train.groupby('title').max()['price'].sort_values(ascending=False)\n",
    "\n",
    "max_price_title"
   ]
  },
  {
   "cell_type": "code",
   "execution_count": 48,
   "id": "e10aedba",
   "metadata": {},
   "outputs": [
    {
     "data": {
      "image/png": "[encoded data removed]",
      "text/plain": [
       "<Figure size 1440x432 with 1 Axes>"
      ]
     },
     "metadata": {
      "needs_background": "light"
     },
     "output_type": "display_data"
    }
   ],
   "source": [
    "# choose the figure size of the plot\n",
    "plt.figure(figsize=(20, 6))\n",
    "\n",
    "# plot bar chart to display the information\n",
    "sns.barplot(x=max_price_title.index, y='price', data=max_price_title.to_frame(), \n",
    "            order=max_price_title.index, color=base_color);\n",
    "\n",
    "# necessary labels and title\n",
    "plt.title('Highest house prices for each house title');\n",
    "plt.xlabel('Title');\n",
    "plt.ylabel('House price');"
   ]
  },
  {
   "cell_type": "markdown",
   "id": "f6baf72e",
   "metadata": {},
   "source": [
    "This plot shows the most expensive houses for each house type. Surprisingly, `Cottage` is not at the last position, it's `Apartment`"
   ]
  },
  {
   "cell_type": "code",
   "execution_count": 49,
   "id": "1f9f6304",
   "metadata": {},
   "outputs": [
    {
     "data": {
      "text/html": [
       "<div>\n",
       "<style scoped>\n",
       "    .dataframe tbody tr th:only-of-type {\n",
       "        vertical-align: middle;\n",
       "    }\n",
       "\n",
       "    .dataframe tbody tr th {\n",
       "        vertical-align: top;\n",
       "    }\n",
       "\n",
       "    .dataframe thead th {\n",
       "        text-align: right;\n",
       "    }\n",
       "</style>\n",
       "<table border=\"1\" class=\"dataframe\">\n",
       "  <thead>\n",
       "    <tr style=\"text-align: right;\">\n",
       "      <th></th>\n",
       "      <th>ID</th>\n",
       "      <th>loc</th>\n",
       "      <th>title</th>\n",
       "      <th>bedroom</th>\n",
       "      <th>bathroom</th>\n",
       "      <th>parking_space</th>\n",
       "      <th>price</th>\n",
       "      <th>zones</th>\n",
       "    </tr>\n",
       "  </thead>\n",
       "  <tbody>\n",
       "    <tr>\n",
       "      <th>1738</th>\n",
       "      <td>1050</td>\n",
       "      <td>Lagos</td>\n",
       "      <td>Cottage</td>\n",
       "      <td>5.0</td>\n",
       "      <td>1.0</td>\n",
       "      <td>NaN</td>\n",
       "      <td>5359255.239</td>\n",
       "      <td>South West</td>\n",
       "    </tr>\n",
       "    <tr>\n",
       "      <th>11464</th>\n",
       "      <td>2428</td>\n",
       "      <td>Lagos</td>\n",
       "      <td>Cottage</td>\n",
       "      <td>NaN</td>\n",
       "      <td>2.0</td>\n",
       "      <td>2.0</td>\n",
       "      <td>4863928.203</td>\n",
       "      <td>South West</td>\n",
       "    </tr>\n",
       "    <tr>\n",
       "      <th>12466</th>\n",
       "      <td>3188</td>\n",
       "      <td>Lagos</td>\n",
       "      <td>Cottage</td>\n",
       "      <td>4.0</td>\n",
       "      <td>1.0</td>\n",
       "      <td>NaN</td>\n",
       "      <td>4851586.158</td>\n",
       "      <td>South West</td>\n",
       "    </tr>\n",
       "    <tr>\n",
       "      <th>11188</th>\n",
       "      <td>2681</td>\n",
       "      <td>Lagos</td>\n",
       "      <td>Cottage</td>\n",
       "      <td>NaN</td>\n",
       "      <td>2.0</td>\n",
       "      <td>NaN</td>\n",
       "      <td>4820875.479</td>\n",
       "      <td>South West</td>\n",
       "    </tr>\n",
       "    <tr>\n",
       "      <th>2001</th>\n",
       "      <td>487</td>\n",
       "      <td>Lagos</td>\n",
       "      <td>Cottage</td>\n",
       "      <td>4.0</td>\n",
       "      <td>1.0</td>\n",
       "      <td>2.0</td>\n",
       "      <td>4639239.258</td>\n",
       "      <td>South West</td>\n",
       "    </tr>\n",
       "  </tbody>\n",
       "</table>\n",
       "</div>"
      ],
      "text/plain": [
       "         ID    loc    title  bedroom  bathroom  parking_space        price  \\\n",
       "1738   1050  Lagos  Cottage      5.0       1.0            NaN  5359255.239   \n",
       "11464  2428  Lagos  Cottage      NaN       2.0            2.0  4863928.203   \n",
       "12466  3188  Lagos  Cottage      4.0       1.0            NaN  4851586.158   \n",
       "11188  2681  Lagos  Cottage      NaN       2.0            NaN  4820875.479   \n",
       "2001    487  Lagos  Cottage      4.0       1.0            2.0  4639239.258   \n",
       "\n",
       "            zones  \n",
       "1738   South West  \n",
       "11464  South West  \n",
       "12466  South West  \n",
       "11188  South West  \n",
       "2001   South West  "
      ]
     },
     "execution_count": 49,
     "metadata": {},
     "output_type": "execute_result"
    }
   ],
   "source": [
    "train[train['title'] == 'Cottage'].sort_values(by='price', ascending=False).head()"
   ]
  },
  {
   "cell_type": "markdown",
   "id": "c4af9c5c",
   "metadata": {},
   "source": [
    "Looking at the most expensive Cottage, we see that it's based in Lagos, a state we've established has unusually high house prices."
   ]
  },
  {
   "cell_type": "markdown",
   "id": "9c6a551d",
   "metadata": {},
   "source": [
    "### Average number of bedrooms by house type."
   ]
  },
  {
   "cell_type": "code",
   "execution_count": 50,
   "id": "9c7b7de3",
   "metadata": {},
   "outputs": [
    {
     "data": {
      "text/plain": [
       "title\n",
       "Semi-detached duplex    4.414903\n",
       "Bungalow                4.402852\n",
       "Flat                    4.378877\n",
       "Apartment               4.344219\n",
       "Penthouse               4.342982\n",
       "Terrace duplex          4.340639\n",
       "Mansion                 4.333929\n",
       "Detached duplex         4.327840\n",
       "Townhouse               4.298759\n",
       "Cottage                 2.905512\n",
       "Name: bedroom, dtype: float64"
      ]
     },
     "execution_count": 50,
     "metadata": {},
     "output_type": "execute_result"
    }
   ],
   "source": [
    "# group the dataset by title and find the mean of the bedroom column.\n",
    "avg_bedrooms_title = train.groupby('title').mean()['bedroom'].sort_values(ascending=False)\n",
    "\n",
    "avg_bedrooms_title"
   ]
  },
  {
   "cell_type": "code",
   "execution_count": 51,
   "id": "5cde6341",
   "metadata": {},
   "outputs": [
    {
     "data": {
      "image/png": "[encoded data removed]",
      "text/plain": [
       "<Figure size 1440x432 with 1 Axes>"
      ]
     },
     "metadata": {
      "needs_background": "light"
     },
     "output_type": "display_data"
    }
   ],
   "source": [
    "# choose the figure size of the plot\n",
    "plt.figure(figsize=(20, 6))\n",
    "\n",
    "# plot bar chart to display the information\n",
    "sns.barplot(x=avg_bedrooms_title.index, y='bedroom', data=avg_bedrooms_title.to_frame(), \n",
    "            order=avg_bedrooms_title.index, color=base_color);\n",
    "\n",
    "# necessary labels and title\n",
    "plt.title('Average number of bedrooms for each house title');\n",
    "plt.xlabel('Title');\n",
    "plt.ylabel('Average number of bedrooms');"
   ]
  },
  {
   "cell_type": "markdown",
   "id": "be1393de",
   "metadata": {},
   "source": [
    "The average number of bedrooms for each house type is surprisingly equal for most house types including the `Mansion` house type. The only exception is the `Cottage` house type which has a smaller average number than the rest."
   ]
  },
  {
   "cell_type": "markdown",
   "id": "59e19367",
   "metadata": {},
   "source": [
    "### Heatmap to show correlation between variables"
   ]
  },
  {
   "cell_type": "code",
   "execution_count": 52,
   "id": "98b11490",
   "metadata": {},
   "outputs": [
    {
     "data": {
      "text/plain": [
       "<AxesSubplot:>"
      ]
     },
     "execution_count": 52,
     "metadata": {},
     "output_type": "execute_result"
    },
    {
     "data": {
      "image/png": "[encoded data removed]",
      "text/plain": [
       "<Figure size 432x288 with 2 Axes>"
      ]
     },
     "metadata": {
      "needs_background": "light"
     },
     "output_type": "display_data"
    }
   ],
   "source": [
    "sns.heatmap(train.corr(), cmap=\"YlGnBu\", annot=True)"
   ]
  },
  {
   "cell_type": "code",
   "execution_count": null,
   "id": "4b7f0944",
   "metadata": {},
   "outputs": [],
   "source": []
  },
  {
   "cell_type": "markdown",
   "id": "d9569a9e",
   "metadata": {},
   "source": [
    "## Feature Engineering"
   ]
  },
  {
   "cell_type": "code",
   "execution_count": 53,
   "id": "7f6e6d23",
   "metadata": {},
   "outputs": [],
   "source": [
    "# Map the 'loc' column to its corresponding frequency values\n",
    "test['zones'] = test['loc'].map(states_zones_dict)"
   ]
  },
  {
   "cell_type": "code",
   "execution_count": 54,
   "id": "196081a3",
   "metadata": {},
   "outputs": [],
   "source": [
    "# drop the price column from the train data so we can combine with the test data\n",
    "data = train.drop(\"price\", axis=1).append(test)"
   ]
  },
  {
   "cell_type": "code",
   "execution_count": 55,
   "id": "e377c430",
   "metadata": {},
   "outputs": [
    {
     "data": {
      "text/html": [
       "<div>\n",
       "<style scoped>\n",
       "    .dataframe tbody tr th:only-of-type {\n",
       "        vertical-align: middle;\n",
       "    }\n",
       "\n",
       "    .dataframe tbody tr th {\n",
       "        vertical-align: top;\n",
       "    }\n",
       "\n",
       "    .dataframe thead th {\n",
       "        text-align: right;\n",
       "    }\n",
       "</style>\n",
       "<table border=\"1\" class=\"dataframe\">\n",
       "  <thead>\n",
       "    <tr style=\"text-align: right;\">\n",
       "      <th></th>\n",
       "      <th>ID</th>\n",
       "      <th>loc</th>\n",
       "      <th>title</th>\n",
       "      <th>bedroom</th>\n",
       "      <th>bathroom</th>\n",
       "      <th>parking_space</th>\n",
       "      <th>zones</th>\n",
       "    </tr>\n",
       "  </thead>\n",
       "  <tbody>\n",
       "    <tr>\n",
       "      <th>0</th>\n",
       "      <td>3583</td>\n",
       "      <td>Katsina</td>\n",
       "      <td>6.0</td>\n",
       "      <td>2.0</td>\n",
       "      <td>2.0</td>\n",
       "      <td>1.0</td>\n",
       "      <td>North West</td>\n",
       "    </tr>\n",
       "    <tr>\n",
       "      <th>1</th>\n",
       "      <td>2748</td>\n",
       "      <td>Ondo</td>\n",
       "      <td>9.0</td>\n",
       "      <td>NaN</td>\n",
       "      <td>2.0</td>\n",
       "      <td>4.0</td>\n",
       "      <td>South West</td>\n",
       "    </tr>\n",
       "    <tr>\n",
       "      <th>2</th>\n",
       "      <td>9261</td>\n",
       "      <td>Ekiti</td>\n",
       "      <td>NaN</td>\n",
       "      <td>7.0</td>\n",
       "      <td>5.0</td>\n",
       "      <td>NaN</td>\n",
       "      <td>South West</td>\n",
       "    </tr>\n",
       "    <tr>\n",
       "      <th>3</th>\n",
       "      <td>2224</td>\n",
       "      <td>Anambra</td>\n",
       "      <td>5.0</td>\n",
       "      <td>5.0</td>\n",
       "      <td>2.0</td>\n",
       "      <td>4.0</td>\n",
       "      <td>South East</td>\n",
       "    </tr>\n",
       "    <tr>\n",
       "      <th>4</th>\n",
       "      <td>10300</td>\n",
       "      <td>Kogi</td>\n",
       "      <td>4.0</td>\n",
       "      <td>NaN</td>\n",
       "      <td>5.0</td>\n",
       "      <td>6.0</td>\n",
       "      <td>North Central</td>\n",
       "    </tr>\n",
       "  </tbody>\n",
       "</table>\n",
       "</div>"
      ],
      "text/plain": [
       "      ID      loc  title  bedroom  bathroom  parking_space          zones\n",
       "0   3583  Katsina    6.0      2.0       2.0            1.0     North West\n",
       "1   2748     Ondo    9.0      NaN       2.0            4.0     South West\n",
       "2   9261    Ekiti    NaN      7.0       5.0            NaN     South West\n",
       "3   2224  Anambra    5.0      5.0       2.0            4.0     South East\n",
       "4  10300     Kogi    4.0      NaN       5.0            6.0  North Central"
      ]
     },
     "execution_count": 55,
     "metadata": {},
     "output_type": "execute_result"
    }
   ],
   "source": [
    "# Define the ranking based on size (arranged from smallest to biggest)\n",
    "house_type_ranks = {\n",
    "    'Cottage': 1,\n",
    "    'Bungalow': 2,\n",
    "    'Townhouse': 3,\n",
    "    'Terrace duplex': 4,\n",
    "    'Detached duplex': 5,\n",
    "    'Semi-detached duplex': 6,\n",
    "    'Flat': 7,\n",
    "    'Penthouse': 8,\n",
    "    'Apartment': 9,\n",
    "    'Mansion': 10\n",
    "}\n",
    "\n",
    "# Map the house types to numerical values based on size ranking\n",
    "data['title'] = data['title'].map(house_type_ranks)\n",
    "\n",
    "# Print the updated dataframe\n",
    "data.head()\n"
   ]
  },
  {
   "cell_type": "code",
   "execution_count": 56,
   "id": "edd4ae53",
   "metadata": {},
   "outputs": [
    {
     "data": {
      "text/html": [
       "<div>\n",
       "<style scoped>\n",
       "    .dataframe tbody tr th:only-of-type {\n",
       "        vertical-align: middle;\n",
       "    }\n",
       "\n",
       "    .dataframe tbody tr th {\n",
       "        vertical-align: top;\n",
       "    }\n",
       "\n",
       "    .dataframe thead th {\n",
       "        text-align: right;\n",
       "    }\n",
       "</style>\n",
       "<table border=\"1\" class=\"dataframe\">\n",
       "  <thead>\n",
       "    <tr style=\"text-align: right;\">\n",
       "      <th></th>\n",
       "      <th>ID</th>\n",
       "      <th>loc</th>\n",
       "      <th>title</th>\n",
       "      <th>bedroom</th>\n",
       "      <th>bathroom</th>\n",
       "      <th>parking_space</th>\n",
       "      <th>zones</th>\n",
       "    </tr>\n",
       "  </thead>\n",
       "  <tbody>\n",
       "    <tr>\n",
       "      <th>0</th>\n",
       "      <td>3583</td>\n",
       "      <td>0.028592</td>\n",
       "      <td>6.0</td>\n",
       "      <td>2.0</td>\n",
       "      <td>2.0</td>\n",
       "      <td>1.0</td>\n",
       "      <td>0.197229</td>\n",
       "    </tr>\n",
       "    <tr>\n",
       "      <th>1</th>\n",
       "      <td>2748</td>\n",
       "      <td>0.028097</td>\n",
       "      <td>9.0</td>\n",
       "      <td>NaN</td>\n",
       "      <td>2.0</td>\n",
       "      <td>4.0</td>\n",
       "      <td>0.169297</td>\n",
       "    </tr>\n",
       "    <tr>\n",
       "      <th>2</th>\n",
       "      <td>9261</td>\n",
       "      <td>0.027822</td>\n",
       "      <td>NaN</td>\n",
       "      <td>7.0</td>\n",
       "      <td>5.0</td>\n",
       "      <td>NaN</td>\n",
       "      <td>0.169297</td>\n",
       "    </tr>\n",
       "    <tr>\n",
       "      <th>3</th>\n",
       "      <td>2224</td>\n",
       "      <td>0.029856</td>\n",
       "      <td>5.0</td>\n",
       "      <td>5.0</td>\n",
       "      <td>2.0</td>\n",
       "      <td>4.0</td>\n",
       "      <td>0.137791</td>\n",
       "    </tr>\n",
       "    <tr>\n",
       "      <th>4</th>\n",
       "      <td>10300</td>\n",
       "      <td>0.027382</td>\n",
       "      <td>4.0</td>\n",
       "      <td>NaN</td>\n",
       "      <td>5.0</td>\n",
       "      <td>6.0</td>\n",
       "      <td>0.166328</td>\n",
       "    </tr>\n",
       "  </tbody>\n",
       "</table>\n",
       "</div>"
      ],
      "text/plain": [
       "      ID       loc  title  bedroom  bathroom  parking_space     zones\n",
       "0   3583  0.028592    6.0      2.0       2.0            1.0  0.197229\n",
       "1   2748  0.028097    9.0      NaN       2.0            4.0  0.169297\n",
       "2   9261  0.027822    NaN      7.0       5.0            NaN  0.169297\n",
       "3   2224  0.029856    5.0      5.0       2.0            4.0  0.137791\n",
       "4  10300  0.027382    4.0      NaN       5.0            6.0  0.166328"
      ]
     },
     "execution_count": 56,
     "metadata": {},
     "output_type": "execute_result"
    }
   ],
   "source": [
    "# Calculate the frequency of each category in the 'loc' and 'zones' column\n",
    "category_frequencies = data['loc'].value_counts(normalize=True)\n",
    "category_frequencies_z = data['zones'].value_counts(normalize=True)\n",
    "\n",
    "# Create a dictionary to map each category to its corresponding frequency\n",
    "loc_frequency_mapping = category_frequencies.to_dict()\n",
    "zones_frequency_mapping = category_frequencies_z.to_dict()\n",
    "\n",
    "# Map the 'loc' and 'zones' column to its corresponding frequency values\n",
    "data['loc'] = data['loc'].map(loc_frequency_mapping)\n",
    "data['zones'] = data['zones'].map(zones_frequency_mapping)\n",
    "\n",
    "# Print the updated dataframe\n",
    "data.head()\n"
   ]
  },
  {
   "cell_type": "code",
   "execution_count": 57,
   "id": "2de3846d",
   "metadata": {},
   "outputs": [
    {
     "data": {
      "text/html": [
       "<div>\n",
       "<style scoped>\n",
       "    .dataframe tbody tr th:only-of-type {\n",
       "        vertical-align: middle;\n",
       "    }\n",
       "\n",
       "    .dataframe tbody tr th {\n",
       "        vertical-align: top;\n",
       "    }\n",
       "\n",
       "    .dataframe thead th {\n",
       "        text-align: right;\n",
       "    }\n",
       "</style>\n",
       "<table border=\"1\" class=\"dataframe\">\n",
       "  <thead>\n",
       "    <tr style=\"text-align: right;\">\n",
       "      <th></th>\n",
       "      <th>ID</th>\n",
       "      <th>loc</th>\n",
       "      <th>title</th>\n",
       "      <th>bedroom</th>\n",
       "      <th>bathroom</th>\n",
       "      <th>parking_space</th>\n",
       "      <th>zones</th>\n",
       "      <th>bed_ratio_bat</th>\n",
       "    </tr>\n",
       "  </thead>\n",
       "  <tbody>\n",
       "    <tr>\n",
       "      <th>0</th>\n",
       "      <td>3583</td>\n",
       "      <td>0.028592</td>\n",
       "      <td>6.0</td>\n",
       "      <td>2.0</td>\n",
       "      <td>2.0</td>\n",
       "      <td>1.0</td>\n",
       "      <td>0.197229</td>\n",
       "      <td>1.0</td>\n",
       "    </tr>\n",
       "    <tr>\n",
       "      <th>1</th>\n",
       "      <td>2748</td>\n",
       "      <td>0.028097</td>\n",
       "      <td>9.0</td>\n",
       "      <td>NaN</td>\n",
       "      <td>2.0</td>\n",
       "      <td>4.0</td>\n",
       "      <td>0.169297</td>\n",
       "      <td>NaN</td>\n",
       "    </tr>\n",
       "    <tr>\n",
       "      <th>2</th>\n",
       "      <td>9261</td>\n",
       "      <td>0.027822</td>\n",
       "      <td>NaN</td>\n",
       "      <td>7.0</td>\n",
       "      <td>5.0</td>\n",
       "      <td>NaN</td>\n",
       "      <td>0.169297</td>\n",
       "      <td>1.4</td>\n",
       "    </tr>\n",
       "    <tr>\n",
       "      <th>3</th>\n",
       "      <td>2224</td>\n",
       "      <td>0.029856</td>\n",
       "      <td>5.0</td>\n",
       "      <td>5.0</td>\n",
       "      <td>2.0</td>\n",
       "      <td>4.0</td>\n",
       "      <td>0.137791</td>\n",
       "      <td>2.5</td>\n",
       "    </tr>\n",
       "    <tr>\n",
       "      <th>4</th>\n",
       "      <td>10300</td>\n",
       "      <td>0.027382</td>\n",
       "      <td>4.0</td>\n",
       "      <td>NaN</td>\n",
       "      <td>5.0</td>\n",
       "      <td>6.0</td>\n",
       "      <td>0.166328</td>\n",
       "      <td>NaN</td>\n",
       "    </tr>\n",
       "  </tbody>\n",
       "</table>\n",
       "</div>"
      ],
      "text/plain": [
       "      ID       loc  title  bedroom  bathroom  parking_space     zones  \\\n",
       "0   3583  0.028592    6.0      2.0       2.0            1.0  0.197229   \n",
       "1   2748  0.028097    9.0      NaN       2.0            4.0  0.169297   \n",
       "2   9261  0.027822    NaN      7.0       5.0            NaN  0.169297   \n",
       "3   2224  0.029856    5.0      5.0       2.0            4.0  0.137791   \n",
       "4  10300  0.027382    4.0      NaN       5.0            6.0  0.166328   \n",
       "\n",
       "   bed_ratio_bat  \n",
       "0            1.0  \n",
       "1            NaN  \n",
       "2            1.4  \n",
       "3            2.5  \n",
       "4            NaN  "
      ]
     },
     "execution_count": 57,
     "metadata": {},
     "output_type": "execute_result"
    }
   ],
   "source": [
    "# Create new feature, bathroom to bedroom ratio\n",
    "data['bed_ratio_bat'] = data['bedroom'] / data['bathroom']\n",
    "\n",
    "data.head()"
   ]
  },
  {
   "cell_type": "code",
   "execution_count": null,
   "id": "bc19aafd",
   "metadata": {},
   "outputs": [],
   "source": []
  },
  {
   "cell_type": "code",
   "execution_count": 58,
   "id": "f57afda5",
   "metadata": {},
   "outputs": [
    {
     "data": {
      "text/plain": [
       "14000"
      ]
     },
     "execution_count": 58,
     "metadata": {},
     "output_type": "execute_result"
    }
   ],
   "source": [
    "train.shape[0]"
   ]
  },
  {
   "cell_type": "code",
   "execution_count": 59,
   "id": "a0a3b555",
   "metadata": {},
   "outputs": [],
   "source": [
    "# creae feature and target variables\n",
    "X = data[:train.shape[0]]\n",
    "y = train.price\n",
    "test_df = data[train.shape[0]:]"
   ]
  },
  {
   "cell_type": "code",
   "execution_count": 60,
   "id": "2d026e91",
   "metadata": {},
   "outputs": [
    {
     "data": {
      "text/plain": [
       "((14000, 8), (14000,), (6000, 8))"
      ]
     },
     "execution_count": 60,
     "metadata": {},
     "output_type": "execute_result"
    }
   ],
   "source": [
    "X.shape, y.shape, test_df.shape"
   ]
  },
  {
   "cell_type": "markdown",
   "id": "55a95be1",
   "metadata": {},
   "source": [
    "Next, we try to see if we can transform the target variable (`price`) to make the distribution look normal"
   ]
  },
  {
   "cell_type": "code",
   "execution_count": 61,
   "id": "f7c6c636",
   "metadata": {},
   "outputs": [
    {
     "data": {
      "image/png": "[encoded data removed]",
      "text/plain": [
       "<Figure size 432x288 with 2 Axes>"
      ]
     },
     "metadata": {},
     "output_type": "display_data"
    }
   ],
   "source": [
    "sns.set()\n",
    "y_transformed = pd.Series(np.log1p(y))\n",
    "\n",
    "fig, ax = plt.subplots(1, 2)\n",
    "sns.distplot(y, ax=ax[0])\n",
    "plt.title(\"Target after Log transformation\")\n",
    "# ax[0].axvline(y_transformed)\n",
    "sns.distplot(y_transformed, ax=ax[1])\n",
    "plt.show()"
   ]
  },
  {
   "cell_type": "code",
   "execution_count": 73,
   "id": "62afb306",
   "metadata": {},
   "outputs": [
    {
     "data": {
      "image/png": "[encoded data removed]",
      "text/plain": [
       "<Figure size 432x288 with 2 Axes>"
      ]
     },
     "metadata": {},
     "output_type": "display_data"
    }
   ],
   "source": [
    "sns.set()\n",
    "y_transformed_sqrt = pd.Series(np.sqrt(y))\n",
    "\n",
    "fig, ax = plt.subplots(1, 2)\n",
    "sns.distplot(y, ax=ax[0])\n",
    "plt.title(\"Target after Log transformation\")\n",
    "# ax[0].axvline(y_transformed)\n",
    "sns.distplot(y_transformed_sqrt, ax=ax[1])\n",
    "plt.show()"
   ]
  },
  {
   "cell_type": "code",
   "execution_count": 63,
   "id": "78b1bdf6",
   "metadata": {},
   "outputs": [],
   "source": [
    "# split dataset into train and test set\n",
    "X_train, X_test, y_train, y_test = train_test_split(X, y_transformed, test_size=0.2, random_state=42)"
   ]
  },
  {
   "cell_type": "code",
   "execution_count": 64,
   "id": "932ab551",
   "metadata": {},
   "outputs": [
    {
     "name": "stdout",
     "output_type": "stream",
     "text": [
      "[LightGBM] [Warning] Auto-choosing row-wise multi-threading, the overhead of testing was 0.000431 seconds.\n",
      "You can set `force_row_wise=true` to remove the overhead.\n",
      "And if memory is not enough, you can set `force_col_wise=true`.\n",
      "[LightGBM] [Info] Total Bins 380\n",
      "[LightGBM] [Info] Number of data points in the train set: 11200, number of used features: 8\n",
      "[LightGBM] [Info] Start training from score 14.471602\n",
      "mse = 0.19676091956431413\n"
     ]
    }
   ],
   "source": [
    "# create lgbm object, fit and predict on test set\n",
    "lgb = LGBMRegressor()\n",
    "lgb.fit(X_train, y_train)\n",
    "lgb_preds = lgb.predict(X_test)\n",
    "\n",
    "print(f'mse = {mean_squared_error(y_test, lgb_preds, squared=False)}')"
   ]
  },
  {
   "cell_type": "code",
   "execution_count": 65,
   "id": "ec2b10b6",
   "metadata": {},
   "outputs": [
    {
     "data": {
      "text/plain": [
       "array([14.60621154, 13.79170545, 13.97894005, ..., 14.60204005,\n",
       "       14.14632617, 15.01449864])"
      ]
     },
     "execution_count": 65,
     "metadata": {},
     "output_type": "execute_result"
    }
   ],
   "source": [
    "predictions = lgb.predict(test_df)\n",
    "predictions"
   ]
  },
  {
   "cell_type": "code",
   "execution_count": 66,
   "id": "4761e851",
   "metadata": {},
   "outputs": [
    {
     "data": {
      "text/plain": [
       "array([2204940.50815255,  976474.99689443, 1177541.32713809, ...,\n",
       "       2195761.78061019, 1392102.07964941, 3316757.93877126])"
      ]
     },
     "execution_count": 66,
     "metadata": {},
     "output_type": "execute_result"
    }
   ],
   "source": [
    "# return the predictions back to its previous state\n",
    "predictions = np.expm1(predictions)\n",
    "predictions"
   ]
  },
  {
   "cell_type": "code",
   "execution_count": 67,
   "id": "a81c9730",
   "metadata": {},
   "outputs": [
    {
     "data": {
      "text/html": [
       "<div>\n",
       "<style scoped>\n",
       "    .dataframe tbody tr th:only-of-type {\n",
       "        vertical-align: middle;\n",
       "    }\n",
       "\n",
       "    .dataframe tbody tr th {\n",
       "        vertical-align: top;\n",
       "    }\n",
       "\n",
       "    .dataframe thead th {\n",
       "        text-align: right;\n",
       "    }\n",
       "</style>\n",
       "<table border=\"1\" class=\"dataframe\">\n",
       "  <thead>\n",
       "    <tr style=\"text-align: right;\">\n",
       "      <th></th>\n",
       "      <th>ID</th>\n",
       "      <th>price</th>\n",
       "    </tr>\n",
       "  </thead>\n",
       "  <tbody>\n",
       "    <tr>\n",
       "      <th>0</th>\n",
       "      <td>845</td>\n",
       "      <td>2.204941e+06</td>\n",
       "    </tr>\n",
       "    <tr>\n",
       "      <th>1</th>\n",
       "      <td>1924</td>\n",
       "      <td>9.764750e+05</td>\n",
       "    </tr>\n",
       "    <tr>\n",
       "      <th>2</th>\n",
       "      <td>10718</td>\n",
       "      <td>1.177541e+06</td>\n",
       "    </tr>\n",
       "    <tr>\n",
       "      <th>3</th>\n",
       "      <td>12076</td>\n",
       "      <td>6.995186e+06</td>\n",
       "    </tr>\n",
       "    <tr>\n",
       "      <th>4</th>\n",
       "      <td>12254</td>\n",
       "      <td>1.919234e+06</td>\n",
       "    </tr>\n",
       "  </tbody>\n",
       "</table>\n",
       "</div>"
      ],
      "text/plain": [
       "      ID         price\n",
       "0    845  2.204941e+06\n",
       "1   1924  9.764750e+05\n",
       "2  10718  1.177541e+06\n",
       "3  12076  6.995186e+06\n",
       "4  12254  1.919234e+06"
      ]
     },
     "execution_count": 67,
     "metadata": {},
     "output_type": "execute_result"
    }
   ],
   "source": [
    "sub['price'] = predictions\n",
    "sub.head()"
   ]
  },
  {
   "cell_type": "code",
   "execution_count": null,
   "id": "9f64e6c0",
   "metadata": {},
   "outputs": [],
   "source": [
    "sub.to_csv('baseline model 7.csv', index=False)"
   ]
  },
  {
   "cell_type": "code",
   "execution_count": null,
   "id": "082af809",
   "metadata": {},
   "outputs": [],
   "source": []
  },
  {
   "cell_type": "code",
   "execution_count": 68,
   "id": "dbee5a9d",
   "metadata": {},
   "outputs": [
    {
     "name": "stdout",
     "output_type": "stream",
     "text": [
      "[LightGBM] [Warning] Accuracy may be bad since you didn't explicitly set num_leaves OR 2^max_depth > num_leaves. (num_leaves=31).\n",
      "[LightGBM] [Warning] Accuracy may be bad since you didn't explicitly set num_leaves OR 2^max_depth > num_leaves. (num_leaves=31).\n",
      "[LightGBM] [Warning] Auto-choosing col-wise multi-threading, the overhead of testing was 0.001060 seconds.\n",
      "You can set `force_col_wise=true` to remove the overhead.\n",
      "[LightGBM] [Info] Total Bins 380\n",
      "[LightGBM] [Info] Number of data points in the train set: 12000, number of used features: 8\n",
      "[LightGBM] [Warning] Accuracy may be bad since you didn't explicitly set num_leaves OR 2^max_depth > num_leaves. (num_leaves=31).\n",
      "[LightGBM] [Info] Start training from score 14.471935\n",
      "[LightGBM] [Warning] Accuracy may be bad since you didn't explicitly set num_leaves OR 2^max_depth > num_leaves. (num_leaves=31).\n",
      "err:  481999.90773529554\n",
      "[LightGBM] [Warning] Accuracy may be bad since you didn't explicitly set num_leaves OR 2^max_depth > num_leaves. (num_leaves=31).\n",
      "[LightGBM] [Warning] Accuracy may be bad since you didn't explicitly set num_leaves OR 2^max_depth > num_leaves. (num_leaves=31).\n",
      "[LightGBM] [Warning] Accuracy may be bad since you didn't explicitly set num_leaves OR 2^max_depth > num_leaves. (num_leaves=31).\n",
      "[LightGBM] [Warning] Auto-choosing col-wise multi-threading, the overhead of testing was 0.000517 seconds.\n",
      "You can set `force_col_wise=true` to remove the overhead.\n",
      "[LightGBM] [Info] Total Bins 380\n",
      "[LightGBM] [Info] Number of data points in the train set: 12000, number of used features: 8\n",
      "[LightGBM] [Warning] Accuracy may be bad since you didn't explicitly set num_leaves OR 2^max_depth > num_leaves. (num_leaves=31).\n",
      "[LightGBM] [Info] Start training from score 14.471009\n",
      "[LightGBM] [Warning] No further splits with positive gain, best gain: -inf\n",
      "[LightGBM] [Warning] No further splits with positive gain, best gain: -inf\n",
      "[LightGBM] [Warning] No further splits with positive gain, best gain: -inf\n",
      "[LightGBM] [Warning] No further splits with positive gain, best gain: -inf\n",
      "[LightGBM] [Warning] No further splits with positive gain, best gain: -inf\n",
      "[LightGBM] [Warning] No further splits with positive gain, best gain: -inf\n",
      "[LightGBM] [Warning] No further splits with positive gain, best gain: -inf\n",
      "[LightGBM] [Warning] No further splits with positive gain, best gain: -inf\n",
      "[LightGBM] [Warning] No further splits with positive gain, best gain: -inf\n",
      "[LightGBM] [Warning] No further splits with positive gain, best gain: -inf\n",
      "[LightGBM] [Warning] No further splits with positive gain, best gain: -inf\n",
      "[LightGBM] [Warning] No further splits with positive gain, best gain: -inf\n",
      "[LightGBM] [Warning] Accuracy may be bad since you didn't explicitly set num_leaves OR 2^max_depth > num_leaves. (num_leaves=31).\n",
      "err:  562231.2882257643\n",
      "[LightGBM] [Warning] Accuracy may be bad since you didn't explicitly set num_leaves OR 2^max_depth > num_leaves. (num_leaves=31).\n",
      "[LightGBM] [Warning] Accuracy may be bad since you didn't explicitly set num_leaves OR 2^max_depth > num_leaves. (num_leaves=31).\n",
      "[LightGBM] [Warning] Accuracy may be bad since you didn't explicitly set num_leaves OR 2^max_depth > num_leaves. (num_leaves=31).\n",
      "[LightGBM] [Warning] Auto-choosing col-wise multi-threading, the overhead of testing was 0.000512 seconds.\n",
      "You can set `force_col_wise=true` to remove the overhead.\n",
      "[LightGBM] [Info] Total Bins 380\n",
      "[LightGBM] [Info] Number of data points in the train set: 12000, number of used features: 8\n",
      "[LightGBM] [Warning] Accuracy may be bad since you didn't explicitly set num_leaves OR 2^max_depth > num_leaves. (num_leaves=31).\n",
      "[LightGBM] [Info] Start training from score 14.470390\n",
      "[LightGBM] [Warning] No further splits with positive gain, best gain: -inf\n",
      "[LightGBM] [Warning] No further splits with positive gain, best gain: -inf\n",
      "[LightGBM] [Warning] No further splits with positive gain, best gain: -inf\n",
      "[LightGBM] [Warning] No further splits with positive gain, best gain: -inf\n",
      "[LightGBM] [Warning] No further splits with positive gain, best gain: -inf\n",
      "[LightGBM] [Warning] No further splits with positive gain, best gain: -inf\n",
      "[LightGBM] [Warning] No further splits with positive gain, best gain: -inf\n",
      "[LightGBM] [Warning] No further splits with positive gain, best gain: -inf\n",
      "[LightGBM] [Warning] Accuracy may be bad since you didn't explicitly set num_leaves OR 2^max_depth > num_leaves. (num_leaves=31).\n",
      "err:  582881.6819932028\n",
      "[LightGBM] [Warning] Accuracy may be bad since you didn't explicitly set num_leaves OR 2^max_depth > num_leaves. (num_leaves=31).\n",
      "[LightGBM] [Warning] Accuracy may be bad since you didn't explicitly set num_leaves OR 2^max_depth > num_leaves. (num_leaves=31).\n",
      "[LightGBM] [Warning] Accuracy may be bad since you didn't explicitly set num_leaves OR 2^max_depth > num_leaves. (num_leaves=31).\n",
      "[LightGBM] [Warning] Auto-choosing col-wise multi-threading, the overhead of testing was 0.000504 seconds.\n",
      "You can set `force_col_wise=true` to remove the overhead.\n",
      "[LightGBM] [Info] Total Bins 380\n",
      "[LightGBM] [Info] Number of data points in the train set: 12000, number of used features: 8\n",
      "[LightGBM] [Warning] Accuracy may be bad since you didn't explicitly set num_leaves OR 2^max_depth > num_leaves. (num_leaves=31).\n",
      "[LightGBM] [Info] Start training from score 14.473858\n",
      "[LightGBM] [Warning] Accuracy may be bad since you didn't explicitly set num_leaves OR 2^max_depth > num_leaves. (num_leaves=31).\n",
      "err:  525465.0091313482\n",
      "[LightGBM] [Warning] Accuracy may be bad since you didn't explicitly set num_leaves OR 2^max_depth > num_leaves. (num_leaves=31).\n",
      "[LightGBM] [Warning] Accuracy may be bad since you didn't explicitly set num_leaves OR 2^max_depth > num_leaves. (num_leaves=31).\n",
      "[LightGBM] [Warning] Accuracy may be bad since you didn't explicitly set num_leaves OR 2^max_depth > num_leaves. (num_leaves=31).\n",
      "[LightGBM] [Warning] Auto-choosing col-wise multi-threading, the overhead of testing was 0.000822 seconds.\n",
      "You can set `force_col_wise=true` to remove the overhead.\n",
      "[LightGBM] [Info] Total Bins 380\n",
      "[LightGBM] [Info] Number of data points in the train set: 12000, number of used features: 8\n",
      "[LightGBM] [Warning] Accuracy may be bad since you didn't explicitly set num_leaves OR 2^max_depth > num_leaves. (num_leaves=31).\n",
      "[LightGBM] [Info] Start training from score 14.471877\n",
      "[LightGBM] [Warning] No further splits with positive gain, best gain: -inf\n",
      "[LightGBM] [Warning] No further splits with positive gain, best gain: -inf\n",
      "[LightGBM] [Warning] No further splits with positive gain, best gain: -inf\n",
      "[LightGBM] [Warning] No further splits with positive gain, best gain: -inf\n",
      "[LightGBM] [Warning] No further splits with positive gain, best gain: -inf\n",
      "[LightGBM] [Warning] Accuracy may be bad since you didn't explicitly set num_leaves OR 2^max_depth > num_leaves. (num_leaves=31).\n",
      "err:  577369.6838802536\n",
      "[LightGBM] [Warning] Accuracy may be bad since you didn't explicitly set num_leaves OR 2^max_depth > num_leaves. (num_leaves=31).\n",
      "[LightGBM] [Warning] Accuracy may be bad since you didn't explicitly set num_leaves OR 2^max_depth > num_leaves. (num_leaves=31).\n",
      "[LightGBM] [Warning] Accuracy may be bad since you didn't explicitly set num_leaves OR 2^max_depth > num_leaves. (num_leaves=31).\n",
      "[LightGBM] [Warning] Auto-choosing row-wise multi-threading, the overhead of testing was 0.000154 seconds.\n",
      "You can set `force_row_wise=true` to remove the overhead.\n",
      "And if memory is not enough, you can set `force_col_wise=true`.\n",
      "[LightGBM] [Info] Total Bins 380\n",
      "[LightGBM] [Info] Number of data points in the train set: 12000, number of used features: 8\n",
      "[LightGBM] [Warning] Accuracy may be bad since you didn't explicitly set num_leaves OR 2^max_depth > num_leaves. (num_leaves=31).\n",
      "[LightGBM] [Info] Start training from score 14.471167\n",
      "[LightGBM] [Warning] No further splits with positive gain, best gain: -inf\n",
      "[LightGBM] [Warning] Accuracy may be bad since you didn't explicitly set num_leaves OR 2^max_depth > num_leaves. (num_leaves=31).\n",
      "err:  487432.53701702494\n",
      "[LightGBM] [Warning] Accuracy may be bad since you didn't explicitly set num_leaves OR 2^max_depth > num_leaves. (num_leaves=31).\n",
      "[LightGBM] [Warning] Accuracy may be bad since you didn't explicitly set num_leaves OR 2^max_depth > num_leaves. (num_leaves=31).\n",
      "[LightGBM] [Warning] Accuracy may be bad since you didn't explicitly set num_leaves OR 2^max_depth > num_leaves. (num_leaves=31).\n",
      "[LightGBM] [Warning] Auto-choosing col-wise multi-threading, the overhead of testing was 0.000826 seconds.\n",
      "You can set `force_col_wise=true` to remove the overhead.\n",
      "[LightGBM] [Info] Total Bins 380\n",
      "[LightGBM] [Info] Number of data points in the train set: 12000, number of used features: 8\n",
      "[LightGBM] [Warning] Accuracy may be bad since you didn't explicitly set num_leaves OR 2^max_depth > num_leaves. (num_leaves=31).\n",
      "[LightGBM] [Info] Start training from score 14.472869\n"
     ]
    },
    {
     "name": "stdout",
     "output_type": "stream",
     "text": [
      "[LightGBM] [Warning] Accuracy may be bad since you didn't explicitly set num_leaves OR 2^max_depth > num_leaves. (num_leaves=31).\n",
      "err:  574546.6054843519\n",
      "[LightGBM] [Warning] Accuracy may be bad since you didn't explicitly set num_leaves OR 2^max_depth > num_leaves. (num_leaves=31).\n",
      "541703.816209606\n"
     ]
    }
   ],
   "source": [
    "fold_pred=[]\n",
    "oof_pred = []\n",
    "\n",
    "params = {\n",
    "    'n_estimators': 500,\n",
    "    'colsample_bytree': 0.86,\n",
    " 'learning_rate': 0.032,\n",
    " 'max_depth': 7,\n",
    " 'subsample': 0.85}\n",
    "\n",
    "\n",
    "fold = KFold(n_splits=7, shuffle=True)#15#5#10\n",
    "i=1\n",
    "for train_index, test_index in fold.split(X,y):     \n",
    "  \n",
    "    X_train, X_test = X.iloc[train_index], X.iloc[test_index]\n",
    "    y_train, y_test = np.log1p(y.iloc[train_index]), y.iloc[test_index]\n",
    "\n",
    "    model = LGBMRegressor(**params, objective = \"rmse\")\n",
    "    model.fit(X_train,y_train,eval_set=[(X_train,y_train),(X_test, y_test)])#erly100\n",
    "\n",
    "    preds= model.predict(X_test)\n",
    "    print(\"err: \",(mean_squared_error(y_test,np.expm1(preds), squared=False)))  #Reverse transformation\n",
    "    oof_pred.append(mean_squared_error(y_test,np.expm1(preds),squared=False))\n",
    "    p2 = model.predict(test_df[X.columns])\n",
    "    fold_pred.append(np.expm1(p2))\n",
    "    \n",
    "\n",
    "print(np.mean(oof_pred))"
   ]
  },
  {
   "cell_type": "code",
   "execution_count": 74,
   "id": "d3d1c52f",
   "metadata": {},
   "outputs": [
    {
     "data": {
      "text/plain": [
       "Text(0.5, 1.0, 'LGBMRegressor features importance (top 50):')"
      ]
     },
     "execution_count": 74,
     "metadata": {},
     "output_type": "execute_result"
    },
    {
     "data": {
      "image/png": "[encoded data removed]",
      "text/plain": [
       "<Figure size 1440x864 with 1 Axes>"
      ]
     },
     "metadata": {},
     "output_type": "display_data"
    }
   ],
   "source": [
    "# plot the feature importances ofthe model we built\n",
    "feature_importance_df = pd.DataFrame(model.feature_importances_, columns=['importance'])\n",
    "feature_importance_df['feature'] = X.columns\n",
    "\n",
    "plt.figure(figsize=(20, 12));\n",
    "sns.barplot(x=\"importance\", y=\"feature\", color=base_color,\n",
    "            data=feature_importance_df.sort_values(by = ['importance'], ascending = False).head(60))\n",
    "plt.title('LGBMRegressor features importance (top 50):')"
   ]
  },
  {
   "cell_type": "code",
   "execution_count": 70,
   "id": "1b9bec8b",
   "metadata": {},
   "outputs": [
    {
     "data": {
      "text/html": [
       "<div>\n",
       "<style scoped>\n",
       "    .dataframe tbody tr th:only-of-type {\n",
       "        vertical-align: middle;\n",
       "    }\n",
       "\n",
       "    .dataframe tbody tr th {\n",
       "        vertical-align: top;\n",
       "    }\n",
       "\n",
       "    .dataframe thead th {\n",
       "        text-align: right;\n",
       "    }\n",
       "</style>\n",
       "<table border=\"1\" class=\"dataframe\">\n",
       "  <thead>\n",
       "    <tr style=\"text-align: right;\">\n",
       "      <th></th>\n",
       "      <th>ID</th>\n",
       "      <th>price</th>\n",
       "    </tr>\n",
       "  </thead>\n",
       "  <tbody>\n",
       "    <tr>\n",
       "      <th>0</th>\n",
       "      <td>845</td>\n",
       "      <td>2.204941e+06</td>\n",
       "    </tr>\n",
       "    <tr>\n",
       "      <th>1</th>\n",
       "      <td>1924</td>\n",
       "      <td>9.764750e+05</td>\n",
       "    </tr>\n",
       "    <tr>\n",
       "      <th>2</th>\n",
       "      <td>10718</td>\n",
       "      <td>1.177541e+06</td>\n",
       "    </tr>\n",
       "    <tr>\n",
       "      <th>3</th>\n",
       "      <td>12076</td>\n",
       "      <td>6.995186e+06</td>\n",
       "    </tr>\n",
       "    <tr>\n",
       "      <th>4</th>\n",
       "      <td>12254</td>\n",
       "      <td>1.919234e+06</td>\n",
       "    </tr>\n",
       "  </tbody>\n",
       "</table>\n",
       "</div>"
      ],
      "text/plain": [
       "      ID         price\n",
       "0    845  2.204941e+06\n",
       "1   1924  9.764750e+05\n",
       "2  10718  1.177541e+06\n",
       "3  12076  6.995186e+06\n",
       "4  12254  1.919234e+06"
      ]
     },
     "execution_count": 70,
     "metadata": {},
     "output_type": "execute_result"
    }
   ],
   "source": [
    "sub.head()"
   ]
  },
  {
   "cell_type": "code",
   "execution_count": 71,
   "id": "5b83051a",
   "metadata": {},
   "outputs": [],
   "source": [
    "sub['price'] =  np.mean(fold_pred, axis = 0)"
   ]
  },
  {
   "cell_type": "code",
   "execution_count": 72,
   "id": "e8d2b947",
   "metadata": {},
   "outputs": [
    {
     "data": {
      "text/html": [
       "<div>\n",
       "<style scoped>\n",
       "    .dataframe tbody tr th:only-of-type {\n",
       "        vertical-align: middle;\n",
       "    }\n",
       "\n",
       "    .dataframe tbody tr th {\n",
       "        vertical-align: top;\n",
       "    }\n",
       "\n",
       "    .dataframe thead th {\n",
       "        text-align: right;\n",
       "    }\n",
       "</style>\n",
       "<table border=\"1\" class=\"dataframe\">\n",
       "  <thead>\n",
       "    <tr style=\"text-align: right;\">\n",
       "      <th></th>\n",
       "      <th>ID</th>\n",
       "      <th>price</th>\n",
       "    </tr>\n",
       "  </thead>\n",
       "  <tbody>\n",
       "    <tr>\n",
       "      <th>0</th>\n",
       "      <td>845</td>\n",
       "      <td>2.267467e+06</td>\n",
       "    </tr>\n",
       "    <tr>\n",
       "      <th>1</th>\n",
       "      <td>1924</td>\n",
       "      <td>9.710923e+05</td>\n",
       "    </tr>\n",
       "    <tr>\n",
       "      <th>2</th>\n",
       "      <td>10718</td>\n",
       "      <td>1.216795e+06</td>\n",
       "    </tr>\n",
       "    <tr>\n",
       "      <th>3</th>\n",
       "      <td>12076</td>\n",
       "      <td>7.540286e+06</td>\n",
       "    </tr>\n",
       "    <tr>\n",
       "      <th>4</th>\n",
       "      <td>12254</td>\n",
       "      <td>1.889908e+06</td>\n",
       "    </tr>\n",
       "  </tbody>\n",
       "</table>\n",
       "</div>"
      ],
      "text/plain": [
       "      ID         price\n",
       "0    845  2.267467e+06\n",
       "1   1924  9.710923e+05\n",
       "2  10718  1.216795e+06\n",
       "3  12076  7.540286e+06\n",
       "4  12254  1.889908e+06"
      ]
     },
     "execution_count": 72,
     "metadata": {},
     "output_type": "execute_result"
    }
   ],
   "source": [
    "sub.head()"
   ]
  },
  {
   "cell_type": "code",
   "execution_count": null,
   "id": "664dd14e",
   "metadata": {},
   "outputs": [],
   "source": [
    "sub.to_csv('LGB kfold_7 Baseline submission 7.csv', index=False)"
   ]
  },
  {
   "cell_type": "markdown",
   "id": "d4e3faae",
   "metadata": {},
   "source": [
    "--------------------------------------------------------------------------------------------------------------------------------"
   ]
  }
 ],
 "metadata": {
  "kernelspec": {
   "display_name": "Python 3",
   "language": "python",
   "name": "python3"
  },
  "language_info": {
   "codemirror_mode": {
    "name": "ipython",
    "version": 3
   },
   "file_extension": ".py",
   "mimetype": "text/x-python",
   "name": "python",
   "nbconvert_exporter": "python",
   "pygments_lexer": "ipython3",
   "version": "3.8.8"
  }
 },
 "nbformat": 4,
 "nbformat_minor": 5
}
